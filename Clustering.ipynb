{
 "cells": [
  {
   "cell_type": "code",
   "execution_count": 1,
   "metadata": {
    "collapsed": true
   },
   "outputs": [],
   "source": [
    "import pandas as pd"
   ]
  },
  {
   "cell_type": "code",
   "execution_count": 2,
   "metadata": {
    "collapsed": true
   },
   "outputs": [],
   "source": [
    "df = pd.read_csv('data/1januarynew.csv', header=0, sep=',', usecols =['pickup_datetime','dropoff_datetime','pickup_neighborhood','dropoff_neighborhood'] )"
   ]
  },
  {
   "cell_type": "code",
   "execution_count": 3,
   "metadata": {
    "scrolled": true
   },
   "outputs": [
    {
     "data": {
      "text/html": [
       "<div>\n",
       "<style>\n",
       "    .dataframe thead tr:only-child th {\n",
       "        text-align: right;\n",
       "    }\n",
       "\n",
       "    .dataframe thead th {\n",
       "        text-align: left;\n",
       "    }\n",
       "\n",
       "    .dataframe tbody tr th {\n",
       "        vertical-align: top;\n",
       "    }\n",
       "</style>\n",
       "<table border=\"1\" class=\"dataframe\">\n",
       "  <thead>\n",
       "    <tr style=\"text-align: right;\">\n",
       "      <th></th>\n",
       "      <th>pickup_datetime</th>\n",
       "      <th>dropoff_datetime</th>\n",
       "      <th>pickup_neighborhood</th>\n",
       "      <th>dropoff_neighborhood</th>\n",
       "    </tr>\n",
       "  </thead>\n",
       "  <tbody>\n",
       "    <tr>\n",
       "      <th>0</th>\n",
       "      <td>2016-01-01 00:00:00</td>\n",
       "      <td>2016-01-01 00:00:00</td>\n",
       "      <td>Greenwich Village</td>\n",
       "      <td>Gramercy</td>\n",
       "    </tr>\n",
       "    <tr>\n",
       "      <th>1</th>\n",
       "      <td>2016-01-01 00:00:00</td>\n",
       "      <td>2016-01-01 00:00:00</td>\n",
       "      <td>East Village</td>\n",
       "      <td>NaN</td>\n",
       "    </tr>\n",
       "    <tr>\n",
       "      <th>2</th>\n",
       "      <td>2016-01-01 00:00:00</td>\n",
       "      <td>2016-01-01 00:00:00</td>\n",
       "      <td>Boerum Hill</td>\n",
       "      <td>Yorkville</td>\n",
       "    </tr>\n",
       "    <tr>\n",
       "      <th>3</th>\n",
       "      <td>2016-01-01 00:00:00</td>\n",
       "      <td>2016-01-01 00:00:00</td>\n",
       "      <td>Lower East Side</td>\n",
       "      <td>NaN</td>\n",
       "    </tr>\n",
       "    <tr>\n",
       "      <th>4</th>\n",
       "      <td>2016-01-01 00:00:00</td>\n",
       "      <td>2016-01-01 00:00:00</td>\n",
       "      <td>Upper East Side</td>\n",
       "      <td>Midtown</td>\n",
       "    </tr>\n",
       "  </tbody>\n",
       "</table>\n",
       "</div>"
      ],
      "text/plain": [
       "       pickup_datetime     dropoff_datetime pickup_neighborhood  \\\n",
       "0  2016-01-01 00:00:00  2016-01-01 00:00:00   Greenwich Village   \n",
       "1  2016-01-01 00:00:00  2016-01-01 00:00:00        East Village   \n",
       "2  2016-01-01 00:00:00  2016-01-01 00:00:00         Boerum Hill   \n",
       "3  2016-01-01 00:00:00  2016-01-01 00:00:00     Lower East Side   \n",
       "4  2016-01-01 00:00:00  2016-01-01 00:00:00     Upper East Side   \n",
       "\n",
       "  dropoff_neighborhood  \n",
       "0             Gramercy  \n",
       "1                  NaN  \n",
       "2            Yorkville  \n",
       "3                  NaN  \n",
       "4              Midtown  "
      ]
     },
     "execution_count": 3,
     "metadata": {},
     "output_type": "execute_result"
    }
   ],
   "source": [
    "df.head()"
   ]
  },
  {
   "cell_type": "code",
   "execution_count": 4,
   "metadata": {},
   "outputs": [
    {
     "data": {
      "text/plain": [
       "10906858"
      ]
     },
     "execution_count": 4,
     "metadata": {},
     "output_type": "execute_result"
    }
   ],
   "source": [
    "number_elem = df.shape[0]\n",
    "number_elem"
   ]
  },
  {
   "cell_type": "code",
   "execution_count": 5,
   "metadata": {},
   "outputs": [
    {
     "data": {
      "text/plain": [
       "4"
      ]
     },
     "execution_count": 5,
     "metadata": {},
     "output_type": "execute_result"
    }
   ],
   "source": [
    "df.shape[1]"
   ]
  },
  {
   "cell_type": "code",
   "execution_count": 6,
   "metadata": {
    "collapsed": true
   },
   "outputs": [],
   "source": [
    "#df2 = df.loc[ (df['pickup_neighborhood']!='NaN')| (df['dropoff_neighborhood']!='NaN')  ,  : ]\n",
    "df.dropna(how='any', inplace=True)"
   ]
  },
  {
   "cell_type": "code",
   "execution_count": 7,
   "metadata": {},
   "outputs": [
    {
     "data": {
      "text/plain": [
       "9755590"
      ]
     },
     "execution_count": 7,
     "metadata": {},
     "output_type": "execute_result"
    }
   ],
   "source": [
    "number_elem2 = df.shape[0]\n",
    "number_elem2"
   ]
  },
  {
   "cell_type": "code",
   "execution_count": 8,
   "metadata": {},
   "outputs": [
    {
     "data": {
      "text/html": [
       "<div>\n",
       "<style>\n",
       "    .dataframe thead tr:only-child th {\n",
       "        text-align: right;\n",
       "    }\n",
       "\n",
       "    .dataframe thead th {\n",
       "        text-align: left;\n",
       "    }\n",
       "\n",
       "    .dataframe tbody tr th {\n",
       "        vertical-align: top;\n",
       "    }\n",
       "</style>\n",
       "<table border=\"1\" class=\"dataframe\">\n",
       "  <thead>\n",
       "    <tr style=\"text-align: right;\">\n",
       "      <th></th>\n",
       "      <th>pickup_datetime</th>\n",
       "      <th>dropoff_datetime</th>\n",
       "      <th>pickup_neighborhood</th>\n",
       "      <th>dropoff_neighborhood</th>\n",
       "    </tr>\n",
       "  </thead>\n",
       "  <tbody>\n",
       "    <tr>\n",
       "      <th>0</th>\n",
       "      <td>2016-01-01 00:00:00</td>\n",
       "      <td>2016-01-01 00:00:00</td>\n",
       "      <td>Greenwich Village</td>\n",
       "      <td>Gramercy</td>\n",
       "    </tr>\n",
       "    <tr>\n",
       "      <th>2</th>\n",
       "      <td>2016-01-01 00:00:00</td>\n",
       "      <td>2016-01-01 00:00:00</td>\n",
       "      <td>Boerum Hill</td>\n",
       "      <td>Yorkville</td>\n",
       "    </tr>\n",
       "    <tr>\n",
       "      <th>4</th>\n",
       "      <td>2016-01-01 00:00:00</td>\n",
       "      <td>2016-01-01 00:00:00</td>\n",
       "      <td>Upper East Side</td>\n",
       "      <td>Midtown</td>\n",
       "    </tr>\n",
       "    <tr>\n",
       "      <th>5</th>\n",
       "      <td>2016-01-01 00:00:00</td>\n",
       "      <td>2016-01-01 00:18:30</td>\n",
       "      <td>Gramercy</td>\n",
       "      <td>Astoria-Long Island City</td>\n",
       "    </tr>\n",
       "    <tr>\n",
       "      <th>6</th>\n",
       "      <td>2016-01-01 00:00:00</td>\n",
       "      <td>2016-01-01 00:26:45</td>\n",
       "      <td>Lower East Side</td>\n",
       "      <td>Upper West Side</td>\n",
       "    </tr>\n",
       "  </tbody>\n",
       "</table>\n",
       "</div>"
      ],
      "text/plain": [
       "       pickup_datetime     dropoff_datetime pickup_neighborhood  \\\n",
       "0  2016-01-01 00:00:00  2016-01-01 00:00:00   Greenwich Village   \n",
       "2  2016-01-01 00:00:00  2016-01-01 00:00:00         Boerum Hill   \n",
       "4  2016-01-01 00:00:00  2016-01-01 00:00:00     Upper East Side   \n",
       "5  2016-01-01 00:00:00  2016-01-01 00:18:30            Gramercy   \n",
       "6  2016-01-01 00:00:00  2016-01-01 00:26:45     Lower East Side   \n",
       "\n",
       "       dropoff_neighborhood  \n",
       "0                  Gramercy  \n",
       "2                 Yorkville  \n",
       "4                   Midtown  \n",
       "5  Astoria-Long Island City  \n",
       "6           Upper West Side  "
      ]
     },
     "execution_count": 8,
     "metadata": {},
     "output_type": "execute_result"
    }
   ],
   "source": [
    "df.head()"
   ]
  },
  {
   "cell_type": "code",
   "execution_count": 9,
   "metadata": {},
   "outputs": [
    {
     "data": {
      "text/plain": [
       "1151268"
      ]
     },
     "execution_count": 9,
     "metadata": {},
     "output_type": "execute_result"
    }
   ],
   "source": [
    "diff = number_elem - number_elem2\n",
    "diff"
   ]
  },
  {
   "cell_type": "code",
   "execution_count": 10,
   "metadata": {},
   "outputs": [
    {
     "data": {
      "text/plain": [
       "10.55545052479825"
      ]
     },
     "execution_count": 10,
     "metadata": {},
     "output_type": "execute_result"
    }
   ],
   "source": [
    "percent = (float(diff)/number_elem)*100\n",
    "percent"
   ]
  },
  {
   "cell_type": "code",
   "execution_count": 11,
   "metadata": {},
   "outputs": [
    {
     "data": {
      "text/plain": [
       "Midtown                      1696291\n",
       "Upper East Side              1479416\n",
       "Upper West Side               891427\n",
       "Gramercy                      829680\n",
       "Chelsea                       687338\n",
       "Garment District              612603\n",
       "Greenwich Village             480415\n",
       "East Village                  369326\n",
       "Murray Hill                   343472\n",
       "Clinton                       313707\n",
       "West Village                  238130\n",
       "Lower East Side               230633\n",
       "Soho                          203380\n",
       "Financial District            197087\n",
       "Tribeca                       167176\n",
       "Central Park                  134365\n",
       "Carnegie Hill                 128541\n",
       "North Sutton Area             107117\n",
       "Battery Park                   89912\n",
       "Little Italy                   85261\n",
       "Yorkville                      68208\n",
       "Harlem                         47862\n",
       "Morningside Heights            44602\n",
       "Astoria-Long Island City       42018\n",
       "Chinatown                      30729\n",
       "East Harlem                    29111\n",
       "Williamsburg                   28268\n",
       "Sunny Side                     24454\n",
       "Hamilton Heights               19796\n",
       "Fort Green                     19629\n",
       "                              ...   \n",
       "Williams Bridge                   76\n",
       "Laurelton                         74\n",
       "Spuyten Duyvil                    71\n",
       "The Rockaways                     66\n",
       "Auburndale                        64\n",
       "Throggs Neck                      62\n",
       "Country Club                      58\n",
       "Clifton                           23\n",
       "South Beach                       21\n",
       "Eastchester                       16\n",
       "Baychester                        15\n",
       "New Brighton                      13\n",
       "Flatbush                          12\n",
       "Midland Beach                     11\n",
       "Oakwood                            8\n",
       "Richmondtown                       7\n",
       "Steinway                           7\n",
       "Mariners Harbor                    6\n",
       "City Island                        6\n",
       "Clearview                          6\n",
       "Todt Hill                          3\n",
       "Annandale                          2\n",
       "Westerleigh-Castleton              2\n",
       "Ettingville                        2\n",
       "Ardon Heights                      2\n",
       "Port Richmond                      2\n",
       "Bloomfield-Chelsea-Travis          1\n",
       "Howland Hook                       1\n",
       "Prince's Bay                       1\n",
       "Huguenot                           1\n",
       "Name: pickup_neighborhood, Length: 115, dtype: int64"
      ]
     },
     "execution_count": 11,
     "metadata": {},
     "output_type": "execute_result"
    }
   ],
   "source": [
    "neighborhoods = df['pickup_neighborhood'].value_counts()\n",
    "neighborhoods"
   ]
  },
  {
   "cell_type": "code",
   "execution_count": 12,
   "metadata": {},
   "outputs": [
    {
     "data": {
      "text/plain": [
       "(115,)"
      ]
     },
     "execution_count": 12,
     "metadata": {},
     "output_type": "execute_result"
    }
   ],
   "source": [
    "neighborhoods.shape"
   ]
  },
  {
   "cell_type": "code",
   "execution_count": 13,
   "metadata": {},
   "outputs": [
    {
     "data": {
      "text/plain": [
       "Midtown                        1557450\n",
       "Upper East Side                1396659\n",
       "Upper West Side                 888358\n",
       "Gramercy                        773653\n",
       "Chelsea                         619890\n",
       "Garment District                506187\n",
       "Greenwich Village               389082\n",
       "Murray Hill                     339864\n",
       "Clinton                         338647\n",
       "East Village                    334443\n",
       "West Village                    221725\n",
       "Financial District              212676\n",
       "Lower East Side                 206549\n",
       "Soho                            192828\n",
       "Tribeca                         154723\n",
       "Carnegie Hill                   141775\n",
       "Central Park                    122717\n",
       "Yorkville                       116550\n",
       "Harlem                          115829\n",
       "Battery Park                     94248\n",
       "North Sutton Area                87938\n",
       "Astoria-Long Island City         86133\n",
       "Williamsburg                     72089\n",
       "Morningside Heights              70743\n",
       "East Harlem                      63379\n",
       "Little Italy                     62900\n",
       "Fort Green                       59391\n",
       "Washington Heights               56203\n",
       "Sunny Side                       49516\n",
       "Bedford-Stuyvesant               42416\n",
       "                                ...   \n",
       "Baychester                         298\n",
       "Laurelton                          239\n",
       "South Beach                        217\n",
       "Eastchester                        185\n",
       "New Brighton                       182\n",
       "Midland Beach                      138\n",
       "Clifton                            127\n",
       "Todt Hill                          111\n",
       "Richmondtown                       111\n",
       "Westerleigh-Castleton              110\n",
       "City Island                        101\n",
       "Oakwood                             86\n",
       "Mariners Harbor                     82\n",
       "Corona                              72\n",
       "Ettingville                         47\n",
       "Ardon Heights                       39\n",
       "Bloomfield-Chelsea-Travis           32\n",
       "Annandale                           31\n",
       "Tottensville                        30\n",
       "Great Kills                         28\n",
       "Flatbush                            28\n",
       "Rossville                           25\n",
       "Port Richmond                       24\n",
       "Huguenot                            20\n",
       "Prince's Bay                        17\n",
       "Woodrow                              9\n",
       "Steinway                             8\n",
       "Howland Hook                         5\n",
       "Charlestown-Richmond Valley          1\n",
       "Red Hook                             1\n",
       "Name: dropoff_neighborhood, Length: 121, dtype: int64"
      ]
     },
     "execution_count": 13,
     "metadata": {},
     "output_type": "execute_result"
    }
   ],
   "source": [
    "neighborhoods_drop = df['dropoff_neighborhood'].value_counts()\n",
    "neighborhoods_drop"
   ]
  },
  {
   "cell_type": "code",
   "execution_count": 14,
   "metadata": {},
   "outputs": [
    {
     "data": {
      "text/plain": [
       "(121,)"
      ]
     },
     "execution_count": 14,
     "metadata": {},
     "output_type": "execute_result"
    }
   ],
   "source": [
    "neighborhoods_drop.shape"
   ]
  },
  {
   "cell_type": "markdown",
   "metadata": {},
   "source": []
  },
  {
   "cell_type": "code",
   "execution_count": 16,
   "metadata": {},
   "outputs": [],
   "source": [
    "import dateutil\n",
    "df['pickup_date'] = df['pickup_datetime'].apply(dateutil.parser.parse)\n",
    "df['dropoff_date'] = df['dropoff_datetime'].apply(dateutil.parser.parse)"
   ]
  },
  {
   "cell_type": "code",
   "execution_count": 17,
   "metadata": {},
   "outputs": [
    {
     "data": {
      "text/plain": [
       "array(['Midtown', 'Upper East Side', 'Upper West Side', 'Gramercy',\n",
       "       'Chelsea', 'Garment District', 'Greenwich Village', 'Murray Hill',\n",
       "       'Clinton', 'East Village', 'West Village', 'Financial District',\n",
       "       'Lower East Side', 'Soho', 'Tribeca', 'Carnegie Hill',\n",
       "       'Central Park', 'Yorkville', 'Harlem', 'Battery Park',\n",
       "       'North Sutton Area', 'Astoria-Long Island City', 'Williamsburg',\n",
       "       'Morningside Heights', 'East Harlem', 'Little Italy', 'Fort Green',\n",
       "       'Washington Heights', 'Sunny Side', 'Bedford-Stuyvesant',\n",
       "       'Hamilton Heights', 'Park Slope', 'Chinatown', 'Downtown',\n",
       "       'Bushwick', 'Jackson Heights', 'Carroll Gardens', 'Boerum Hill',\n",
       "       'Woodside', 'Forest Hills', 'Mott Haven', 'Inwood', 'Cobble Hill',\n",
       "       'South Bronx', 'Bay Ridge', 'Ridgewood', 'Borough Park',\n",
       "       'Mapleton-Flatlands', 'Sunset Park', 'Greenwood', 'High Bridge',\n",
       "       'Gravesend-Sheepshead Bay', 'Nkew Gardens', 'Maspeth', 'Riverdale',\n",
       "       'Utopia', 'Middle Village', 'Tremont', 'Jamaica', 'Flushing',\n",
       "       'Bedford Park', 'Parkchester', 'Woodhaven-Richmond Hill',\n",
       "       'Soundview', 'Kings Bridge', 'East Brooklyn', 'Bensonhurst',\n",
       "       'Brownsville', 'Morris Heights', 'Spuyten Duyvil', 'Canarsie',\n",
       "       'University Heights', 'Fordham', 'Dyker Heights', 'Morris Park',\n",
       "       'Glendale', 'Queensboro Hill', 'Union Port',\n",
       "       'Wakefield-Williamsbridge', 'Woodlawn-Nordwood', 'Hunts Point',\n",
       "       'Williams Bridge', 'Saintalbans', 'Throggs Neck',\n",
       "       'Douglastown-Little Neck', 'Country Club', 'Auburndale',\n",
       "       'Springfield Gardens', 'The Rockaways', 'Queens Village',\n",
       "       'Clearview', 'Baychester', 'Laurelton', 'South Beach',\n",
       "       'Eastchester', 'New Brighton', 'Midland Beach', 'Clifton',\n",
       "       'Todt Hill', 'Richmondtown', 'Westerleigh-Castleton', 'City Island',\n",
       "       'Oakwood', 'Mariners Harbor', 'Corona', 'Ettingville',\n",
       "       'Ardon Heights', 'Bloomfield-Chelsea-Travis', 'Annandale',\n",
       "       'Tottensville', 'Great Kills', 'Flatbush', 'Rossville',\n",
       "       'Port Richmond', 'Huguenot', \"Prince's Bay\", 'Woodrow', 'Steinway',\n",
       "       'Howland Hook', 'Charlestown-Richmond Valley', 'Red Hook'], dtype=object)"
      ]
     },
     "execution_count": 17,
     "metadata": {},
     "output_type": "execute_result"
    }
   ],
   "source": [
    "neighborhoods_drop.index.values"
   ]
  },
  {
   "cell_type": "code",
   "execution_count": 18,
   "metadata": {},
   "outputs": [
    {
     "data": {
      "text/plain": [
       "121"
      ]
     },
     "execution_count": 18,
     "metadata": {},
     "output_type": "execute_result"
    }
   ],
   "source": [
    "len(neighborhoods_drop.index.tolist())"
   ]
  },
  {
   "cell_type": "code",
   "execution_count": 56,
   "metadata": {},
   "outputs": [
    {
     "data": {
      "text/plain": [
       "['Annandale',\n",
       " 'Ardon Heights',\n",
       " 'Astoria-Long Island City',\n",
       " 'Auburndale',\n",
       " 'Battery Park',\n",
       " 'Bay Ridge',\n",
       " 'Baychester',\n",
       " 'Bedford Park',\n",
       " 'Bedford-Stuyvesant',\n",
       " 'Bensonhurst',\n",
       " 'Bloomfield-Chelsea-Travis',\n",
       " 'Boerum Hill',\n",
       " 'Borough Park',\n",
       " 'Brownsville',\n",
       " 'Bushwick',\n",
       " 'Canarsie',\n",
       " 'Carnegie Hill',\n",
       " 'Carroll Gardens',\n",
       " 'Central Park',\n",
       " 'Chelsea',\n",
       " 'Chinatown',\n",
       " 'City Island',\n",
       " 'Clearview',\n",
       " 'Clifton',\n",
       " 'Clinton',\n",
       " 'Cobble Hill',\n",
       " 'Corona',\n",
       " 'Country Club',\n",
       " 'Douglastown-Little Neck',\n",
       " 'Downtown',\n",
       " 'Dyker Heights',\n",
       " 'East Brooklyn',\n",
       " 'East Harlem',\n",
       " 'East Village',\n",
       " 'Eastchester',\n",
       " 'Ettingville',\n",
       " 'Financial District',\n",
       " 'Flatbush',\n",
       " 'Flushing',\n",
       " 'Fordham',\n",
       " 'Forest Hills',\n",
       " 'Fort Green',\n",
       " 'Garment District',\n",
       " 'Glendale',\n",
       " 'Gramercy',\n",
       " 'Gravesend-Sheepshead Bay',\n",
       " 'Greenwich Village',\n",
       " 'Greenwood',\n",
       " 'Hamilton Heights',\n",
       " 'Harlem',\n",
       " 'High Bridge',\n",
       " 'Howland Hook',\n",
       " 'Huguenot',\n",
       " 'Hunts Point',\n",
       " 'Inwood',\n",
       " 'Jackson Heights',\n",
       " 'Jamaica',\n",
       " 'Kings Bridge',\n",
       " 'Laurelton',\n",
       " 'Little Italy',\n",
       " 'Lower East Side',\n",
       " 'Mapleton-Flatlands',\n",
       " 'Mariners Harbor',\n",
       " 'Maspeth',\n",
       " 'Middle Village',\n",
       " 'Midland Beach',\n",
       " 'Midtown',\n",
       " 'Morningside Heights',\n",
       " 'Morris Heights',\n",
       " 'Morris Park',\n",
       " 'Mott Haven',\n",
       " 'Murray Hill',\n",
       " 'New Brighton',\n",
       " 'Nkew Gardens',\n",
       " 'North Sutton Area',\n",
       " 'Oakwood',\n",
       " 'Park Slope',\n",
       " 'Parkchester',\n",
       " 'Port Richmond',\n",
       " \"Prince's Bay\",\n",
       " 'Queens Village',\n",
       " 'Queensboro Hill',\n",
       " 'Richmondtown',\n",
       " 'Ridgewood',\n",
       " 'Riverdale',\n",
       " 'Saintalbans',\n",
       " 'Soho',\n",
       " 'Soundview',\n",
       " 'South Beach',\n",
       " 'South Bronx',\n",
       " 'Springfield Gardens',\n",
       " 'Spuyten Duyvil',\n",
       " 'Steinway',\n",
       " 'Sunny Side',\n",
       " 'Sunset Park',\n",
       " 'The Rockaways',\n",
       " 'Throggs Neck',\n",
       " 'Todt Hill',\n",
       " 'Tremont',\n",
       " 'Tribeca',\n",
       " 'Union Port',\n",
       " 'University Heights',\n",
       " 'Upper East Side',\n",
       " 'Upper West Side',\n",
       " 'Utopia',\n",
       " 'Wakefield-Williamsbridge',\n",
       " 'Washington Heights',\n",
       " 'West Village',\n",
       " 'Westerleigh-Castleton',\n",
       " 'Williams Bridge',\n",
       " 'Williamsburg',\n",
       " 'Woodhaven-Richmond Hill',\n",
       " 'Woodlawn-Nordwood',\n",
       " 'Woodside',\n",
       " 'Yorkville']"
      ]
     },
     "execution_count": 56,
     "metadata": {},
     "output_type": "execute_result"
    }
   ],
   "source": [
    "x = df['pickup_neighborhood'].unique().tolist()\n",
    "x.sort()\n",
    "x"
   ]
  },
  {
   "cell_type": "code",
   "execution_count": 21,
   "metadata": {
    "collapsed": true
   },
   "outputs": [],
   "source": [
    "import numpy as np\n",
    "\n",
    "#Here we just get the total amount of trips from neighborhood to neighborhood\n",
    "\n",
    "def fromNeighborhoodsFeatures(data, column_neighborhoods_from, column_neighborhoods_to):\n",
    "    #Get a set of the Neighborhoods where people were pickedup\n",
    "    Neighborhoods = data[column_neighborhoods_from].unique().tolist()\n",
    "    Neighborhoods = set(Neighborhoods)\n",
    "    #Update the set with the Neighborhoods where people were dropoff\n",
    "    Neighborhoods.update(  data[column_neighborhoods_to].unique().tolist() )\n",
    "    \n",
    "    # Convert the set to a list so we can use the indexes for the np.array\n",
    "    Neighborhoods = list(Neighborhoods)\n",
    "    Neighborhoods.sort()\n",
    "    print(\"Value of column_neighborhoods_from: %s\"%(column_neighborhoods_from))\n",
    "    print(\"Number of neighborhoods: %d\"%(len(Neighborhoods)))\n",
    "    array = np.zeros( ( len(Neighborhoods),len(Neighborhoods) ) )\n",
    "    \n",
    "    iter_ = data.iterrows()\n",
    "    # iterrows() give (Index, Series) pairs where the Series are the rows\n",
    "    for e in iter_:\n",
    "        origin = e[1][column_neighborhoods_from]\n",
    "        #print(\"Pickup: \"+origin)\n",
    "        destiny = e[1][column_neighborhoods_to]\n",
    "        #print(\"Dropoff: \"+destiny)\n",
    "        origin_index = Neighborhoods.index(origin)\n",
    "        destiny_index = Neighborhoods.index(destiny)\n",
    "        \n",
    "        freq =  array[origin_index,destiny_index]          \n",
    "        freq +=1\n",
    "        #Line below is unnecesarry???????????\n",
    "        array[origin_index,destiny_index] = freq\n",
    "    \n",
    "    return array\n",
    "    "
   ]
  },
  {
   "cell_type": "code",
   "execution_count": 22,
   "metadata": {},
   "outputs": [
    {
     "data": {
      "text/html": [
       "<div>\n",
       "<style>\n",
       "    .dataframe thead tr:only-child th {\n",
       "        text-align: right;\n",
       "    }\n",
       "\n",
       "    .dataframe thead th {\n",
       "        text-align: left;\n",
       "    }\n",
       "\n",
       "    .dataframe tbody tr th {\n",
       "        vertical-align: top;\n",
       "    }\n",
       "</style>\n",
       "<table border=\"1\" class=\"dataframe\">\n",
       "  <thead>\n",
       "    <tr style=\"text-align: right;\">\n",
       "      <th></th>\n",
       "      <th>pickup_datetime</th>\n",
       "      <th>dropoff_datetime</th>\n",
       "      <th>pickup_neighborhood</th>\n",
       "      <th>dropoff_neighborhood</th>\n",
       "      <th>pickup_date</th>\n",
       "      <th>dropoff_date</th>\n",
       "    </tr>\n",
       "  </thead>\n",
       "  <tbody>\n",
       "    <tr>\n",
       "      <th>0</th>\n",
       "      <td>2016-01-01 00:00:00</td>\n",
       "      <td>2016-01-01 00:00:00</td>\n",
       "      <td>Greenwich Village</td>\n",
       "      <td>Gramercy</td>\n",
       "      <td>2016-01-01</td>\n",
       "      <td>2016-01-01 00:00:00</td>\n",
       "    </tr>\n",
       "    <tr>\n",
       "      <th>2</th>\n",
       "      <td>2016-01-01 00:00:00</td>\n",
       "      <td>2016-01-01 00:00:00</td>\n",
       "      <td>Boerum Hill</td>\n",
       "      <td>Yorkville</td>\n",
       "      <td>2016-01-01</td>\n",
       "      <td>2016-01-01 00:00:00</td>\n",
       "    </tr>\n",
       "    <tr>\n",
       "      <th>4</th>\n",
       "      <td>2016-01-01 00:00:00</td>\n",
       "      <td>2016-01-01 00:00:00</td>\n",
       "      <td>Upper East Side</td>\n",
       "      <td>Midtown</td>\n",
       "      <td>2016-01-01</td>\n",
       "      <td>2016-01-01 00:00:00</td>\n",
       "    </tr>\n",
       "    <tr>\n",
       "      <th>5</th>\n",
       "      <td>2016-01-01 00:00:00</td>\n",
       "      <td>2016-01-01 00:18:30</td>\n",
       "      <td>Gramercy</td>\n",
       "      <td>Astoria-Long Island City</td>\n",
       "      <td>2016-01-01</td>\n",
       "      <td>2016-01-01 00:18:30</td>\n",
       "    </tr>\n",
       "    <tr>\n",
       "      <th>6</th>\n",
       "      <td>2016-01-01 00:00:00</td>\n",
       "      <td>2016-01-01 00:26:45</td>\n",
       "      <td>Lower East Side</td>\n",
       "      <td>Upper West Side</td>\n",
       "      <td>2016-01-01</td>\n",
       "      <td>2016-01-01 00:26:45</td>\n",
       "    </tr>\n",
       "  </tbody>\n",
       "</table>\n",
       "</div>"
      ],
      "text/plain": [
       "       pickup_datetime     dropoff_datetime pickup_neighborhood  \\\n",
       "0  2016-01-01 00:00:00  2016-01-01 00:00:00   Greenwich Village   \n",
       "2  2016-01-01 00:00:00  2016-01-01 00:00:00         Boerum Hill   \n",
       "4  2016-01-01 00:00:00  2016-01-01 00:00:00     Upper East Side   \n",
       "5  2016-01-01 00:00:00  2016-01-01 00:18:30            Gramercy   \n",
       "6  2016-01-01 00:00:00  2016-01-01 00:26:45     Lower East Side   \n",
       "\n",
       "       dropoff_neighborhood pickup_date        dropoff_date  \n",
       "0                  Gramercy  2016-01-01 2016-01-01 00:00:00  \n",
       "2                 Yorkville  2016-01-01 2016-01-01 00:00:00  \n",
       "4                   Midtown  2016-01-01 2016-01-01 00:00:00  \n",
       "5  Astoria-Long Island City  2016-01-01 2016-01-01 00:18:30  \n",
       "6           Upper West Side  2016-01-01 2016-01-01 00:26:45  "
      ]
     },
     "execution_count": 22,
     "metadata": {},
     "output_type": "execute_result"
    }
   ],
   "source": [
    "df.head()"
   ]
  },
  {
   "cell_type": "code",
   "execution_count": 42,
   "metadata": {},
   "outputs": [
    {
     "data": {
      "text/html": [
       "<div>\n",
       "<style>\n",
       "    .dataframe thead tr:only-child th {\n",
       "        text-align: right;\n",
       "    }\n",
       "\n",
       "    .dataframe thead th {\n",
       "        text-align: left;\n",
       "    }\n",
       "\n",
       "    .dataframe tbody tr th {\n",
       "        vertical-align: top;\n",
       "    }\n",
       "</style>\n",
       "<table border=\"1\" class=\"dataframe\">\n",
       "  <thead>\n",
       "    <tr style=\"text-align: right;\">\n",
       "      <th></th>\n",
       "      <th>pickup_datetime</th>\n",
       "      <th>dropoff_datetime</th>\n",
       "      <th>pickup_neighborhood</th>\n",
       "      <th>dropoff_neighborhood</th>\n",
       "      <th>pickup_date</th>\n",
       "      <th>dropoff_date</th>\n",
       "      <th>pickup_hour</th>\n",
       "    </tr>\n",
       "  </thead>\n",
       "  <tbody>\n",
       "    <tr>\n",
       "      <th>0</th>\n",
       "      <td>2016-01-01 00:00:00</td>\n",
       "      <td>2016-01-01 00:00:00</td>\n",
       "      <td>Greenwich Village</td>\n",
       "      <td>Gramercy</td>\n",
       "      <td>2016-01-01</td>\n",
       "      <td>2016-01-01 00:00:00</td>\n",
       "      <td>0</td>\n",
       "    </tr>\n",
       "    <tr>\n",
       "      <th>2</th>\n",
       "      <td>2016-01-01 00:00:00</td>\n",
       "      <td>2016-01-01 00:00:00</td>\n",
       "      <td>Boerum Hill</td>\n",
       "      <td>Yorkville</td>\n",
       "      <td>2016-01-01</td>\n",
       "      <td>2016-01-01 00:00:00</td>\n",
       "      <td>0</td>\n",
       "    </tr>\n",
       "    <tr>\n",
       "      <th>4</th>\n",
       "      <td>2016-01-01 00:00:00</td>\n",
       "      <td>2016-01-01 00:00:00</td>\n",
       "      <td>Upper East Side</td>\n",
       "      <td>Midtown</td>\n",
       "      <td>2016-01-01</td>\n",
       "      <td>2016-01-01 00:00:00</td>\n",
       "      <td>0</td>\n",
       "    </tr>\n",
       "    <tr>\n",
       "      <th>5</th>\n",
       "      <td>2016-01-01 00:00:00</td>\n",
       "      <td>2016-01-01 00:18:30</td>\n",
       "      <td>Gramercy</td>\n",
       "      <td>Astoria-Long Island City</td>\n",
       "      <td>2016-01-01</td>\n",
       "      <td>2016-01-01 00:18:30</td>\n",
       "      <td>0</td>\n",
       "    </tr>\n",
       "    <tr>\n",
       "      <th>6</th>\n",
       "      <td>2016-01-01 00:00:00</td>\n",
       "      <td>2016-01-01 00:26:45</td>\n",
       "      <td>Lower East Side</td>\n",
       "      <td>Upper West Side</td>\n",
       "      <td>2016-01-01</td>\n",
       "      <td>2016-01-01 00:26:45</td>\n",
       "      <td>0</td>\n",
       "    </tr>\n",
       "  </tbody>\n",
       "</table>\n",
       "</div>"
      ],
      "text/plain": [
       "       pickup_datetime     dropoff_datetime pickup_neighborhood  \\\n",
       "0  2016-01-01 00:00:00  2016-01-01 00:00:00   Greenwich Village   \n",
       "2  2016-01-01 00:00:00  2016-01-01 00:00:00         Boerum Hill   \n",
       "4  2016-01-01 00:00:00  2016-01-01 00:00:00     Upper East Side   \n",
       "5  2016-01-01 00:00:00  2016-01-01 00:18:30            Gramercy   \n",
       "6  2016-01-01 00:00:00  2016-01-01 00:26:45     Lower East Side   \n",
       "\n",
       "       dropoff_neighborhood pickup_date        dropoff_date  pickup_hour  \n",
       "0                  Gramercy  2016-01-01 2016-01-01 00:00:00            0  \n",
       "2                 Yorkville  2016-01-01 2016-01-01 00:00:00            0  \n",
       "4                   Midtown  2016-01-01 2016-01-01 00:00:00            0  \n",
       "5  Astoria-Long Island City  2016-01-01 2016-01-01 00:18:30            0  \n",
       "6           Upper West Side  2016-01-01 2016-01-01 00:26:45            0  "
      ]
     },
     "execution_count": 42,
     "metadata": {},
     "output_type": "execute_result"
    }
   ],
   "source": [
    "df['pickup_hour'] = df['pickup_date'].dt.hour\n",
    "df.head()\n",
    "#df.loc[0, 'pickup_date'].hour"
   ]
  },
  {
   "cell_type": "code",
   "execution_count": 47,
   "metadata": {
    "collapsed": true
   },
   "outputs": [],
   "source": [
    "#Here we just get the total amount of trips from neighborhood to neighborhood\n",
    "# temp_bands is a list of the upper-limit of each temporal band\n",
    "# example: if our temporal bands are [0-6), [6-12), [12-18), [18-24)\n",
    "# the list will be [ 6 , 12 , 18, 24 ] ; the validation being\n",
    "# for i in temp_bands:\n",
    "#     if time < i:\n",
    "#        return temp_bands.index(i)\n",
    "\n",
    "def fromNeighborhoodsFeaturesHour(data, column_neighborhoods_from, column_neighborhoods_to, time_column ,temp_bands):\n",
    "    #Get a set of the Neighborhoods where people were pickedup\n",
    "    Neighborhoods = data[column_neighborhoods_from].unique().tolist()\n",
    "    Neighborhoods = set(Neighborhoods)\n",
    "    #Update the set with the Neighborhoods where people were dropoff\n",
    "    Neighborhoods.update(  data[column_neighborhoods_to].unique().tolist() )\n",
    "    \n",
    "    # Convert the set to a list so we can use the indexes for the np.array\n",
    "    Neighborhoods = list(Neighborhoods)\n",
    "    Neighborhoods.sort()\n",
    "    print(\"Value of column_neighborhoods_from: %s\"%(column_neighborhoods_from))\n",
    "    print(\"Number of neighborhoods: %d\"%(len(Neighborhoods)))\n",
    "    \n",
    "    #Initialize the array\n",
    "    \n",
    "    array = np.zeros( ( len(Neighborhoods),len(Neighborhoods), len(temp_bands) ) )\n",
    "    \n",
    "    iter_ = data.iterrows()\n",
    "    # iterrows() give (Index, Series) pairs where the Series are the rows\n",
    "    for e in iter_:\n",
    "        origin = e[1][column_neighborhoods_from]\n",
    "        #print(\"Pickup: \"+origin)\n",
    "        destiny = e[1][column_neighborhoods_to]\n",
    "        #print(\"Dropoff: \"+destiny)\n",
    "        \n",
    "        origin_index = Neighborhoods.index(origin)\n",
    "        destiny_index = Neighborhoods.index(destiny)\n",
    "        #get the time        \n",
    "        hour = e[1][time_column]\n",
    "        #get the index of the temporal bands\n",
    "        hour_index = 0\n",
    "        for i in temp_bands:\n",
    "            if hour < i:\n",
    "                hour_index = temp_bands.index(i)\n",
    "                break\n",
    "        \n",
    "        freq =  array[origin_index,destiny_index, hour_index]          \n",
    "        freq +=1\n",
    "        #Line below is unnecesarry???????????\n",
    "        array[origin_index,destiny_index, hour_index] = freq\n",
    "    \n",
    "    return array"
   ]
  },
  {
   "cell_type": "code",
   "execution_count": 49,
   "metadata": {},
   "outputs": [
    {
     "name": "stdout",
     "output_type": "stream",
     "text": [
      "Value of column_neighborhoods_from: pickup_neighborhood\n",
      "Number of neighborhoods: 121\n"
     ]
    }
   ],
   "source": [
    "temporal_band = [ 6 , 12 , 18, 24 ]\n",
    "features = fromNeighborhoodsFeaturesHour(df, 'pickup_neighborhood', 'dropoff_neighborhood','pickup_hour' ,temporal_band)"
   ]
  },
  {
   "cell_type": "code",
   "execution_count": 68,
   "metadata": {},
   "outputs": [
    {
     "data": {
      "text/plain": [
       "(2, 2, 4)"
      ]
     },
     "execution_count": 68,
     "metadata": {},
     "output_type": "execute_result"
    }
   ],
   "source": [
    "fea2 = features[0:2 ,0:2 ,:]\n",
    "fea2.shape\n",
    "# tenemos (x,y,z) y queremos un array de la forma (x, y*z)"
   ]
  },
  {
   "cell_type": "code",
   "execution_count": 72,
   "metadata": {},
   "outputs": [
    {
     "data": {
      "text/plain": [
       "array([[[ 2.,  0.,  0.,  0.],\n",
       "        [ 0.,  0.,  0.,  0.]],\n",
       "\n",
       "       [[ 0.,  0.,  0.,  0.],\n",
       "        [ 1.,  0.,  0.,  1.]]])"
      ]
     },
     "execution_count": 72,
     "metadata": {},
     "output_type": "execute_result"
    }
   ],
   "source": [
    "fea2"
   ]
  },
  {
   "cell_type": "code",
   "execution_count": 58,
   "metadata": {},
   "outputs": [
    {
     "data": {
      "text/plain": [
       "(121, 121, 4)"
      ]
     },
     "execution_count": 58,
     "metadata": {},
     "output_type": "execute_result"
    }
   ],
   "source": [
    "features.shape"
   ]
  },
  {
   "cell_type": "code",
   "execution_count": 69,
   "metadata": {},
   "outputs": [
    {
     "data": {
      "text/plain": [
       "array([[ 2.,  0.,  0.,  0.,  0.,  0.,  0.,  0.],\n",
       "       [ 0.,  0.,  0.,  0.,  1.,  0.,  0.,  1.]])"
      ]
     },
     "execution_count": 69,
     "metadata": {},
     "output_type": "execute_result"
    }
   ],
   "source": [
    "fea3  = fea2.reshape(2,8)\n",
    "fea3"
   ]
  },
  {
   "cell_type": "code",
   "execution_count": 73,
   "metadata": {
    "collapsed": true
   },
   "outputs": [],
   "source": [
    "shape = features.shape\n",
    "features_2D = features.reshape(shape[0], shape[1]*shape[2]  )"
   ]
  },
  {
   "cell_type": "code",
   "execution_count": 59,
   "metadata": {
    "collapsed": true
   },
   "outputs": [],
   "source": [
    "from sklearn.cluster import KMeans"
   ]
  },
  {
   "cell_type": "code",
   "execution_count": 78,
   "metadata": {},
   "outputs": [
    {
     "data": {
      "text/plain": [
       "array([2, 2, 2, 2, 2, 2, 2, 2, 2, 2, 2, 2, 2, 2, 2, 2, 2, 2, 2, 2, 0, 2, 2,\n",
       "       2, 2, 0, 2, 2, 2, 2, 2, 2, 2, 2, 2, 2, 2, 2, 2, 2, 2, 2, 2, 0, 2, 0,\n",
       "       2, 2, 0, 2, 2, 2, 2, 2, 2, 2, 2, 2, 2, 2, 2, 2, 2, 2, 2, 2, 2, 2, 1,\n",
       "       2, 2, 2, 2, 0, 2, 2, 2, 2, 2, 2, 2, 2, 2, 2, 2, 2, 2, 2, 2, 2, 2, 2,\n",
       "       2, 2, 2, 2, 2, 2, 2, 2, 2, 2, 2, 2, 2, 2, 2, 1, 0, 2, 2, 2, 2, 2, 2,\n",
       "       2, 2, 2, 2, 2, 2], dtype=int32)"
      ]
     },
     "execution_count": 78,
     "metadata": {},
     "output_type": "execute_result"
    }
   ],
   "source": [
    "kmeans = KMeans(n_clusters=3, random_state=0).fit(features_2D)\n",
    "kmeans.labels_"
   ]
  },
  {
   "cell_type": "code",
   "execution_count": 79,
   "metadata": {},
   "outputs": [
    {
     "data": {
      "text/plain": [
       "121"
      ]
     },
     "execution_count": 79,
     "metadata": {},
     "output_type": "execute_result"
    }
   ],
   "source": [
    "kmeans.labels_.size"
   ]
  },
  {
   "cell_type": "code",
   "execution_count": 80,
   "metadata": {},
   "outputs": [
    {
     "data": {
      "text/plain": [
       "array([[  1.42857143e-01,   0.00000000e+00,   0.00000000e+00, ...,\n",
       "          1.06371429e+03,   1.05157143e+03,   1.37742857e+03],\n",
       "       [  1.00000000e+00,   0.00000000e+00,   5.00000000e-01, ...,\n",
       "          7.69550000e+03,   8.33350000e+03,   9.10250000e+03],\n",
       "       [  7.14285714e-02,   0.00000000e+00,   1.90819582e-17, ...,\n",
       "          8.33750000e+01,   7.37321429e+01,   6.78928571e+01]])"
      ]
     },
     "execution_count": 80,
     "metadata": {},
     "output_type": "execute_result"
    }
   ],
   "source": [
    "kmeans.cluster_centers_"
   ]
  },
  {
   "cell_type": "code",
   "execution_count": 81,
   "metadata": {},
   "outputs": [
    {
     "data": {
      "text/plain": [
       "17783"
      ]
     },
     "execution_count": 81,
     "metadata": {},
     "output_type": "execute_result"
    }
   ],
   "source": [
    "features[features>0].size"
   ]
  },
  {
   "cell_type": "markdown",
   "metadata": {
    "collapsed": true
   },
   "source": []
  },
  {
   "cell_type": "code",
   "execution_count": null,
   "metadata": {
    "collapsed": true
   },
   "outputs": [],
   "source": []
  }
 ],
 "metadata": {
  "kernelspec": {
   "display_name": "Python 2",
   "language": "python",
   "name": "python2"
  },
  "language_info": {
   "codemirror_mode": {
    "name": "ipython",
    "version": 2
   },
   "file_extension": ".py",
   "mimetype": "text/x-python",
   "name": "python",
   "nbconvert_exporter": "python",
   "pygments_lexer": "ipython2",
   "version": "2.7.5"
  }
 },
 "nbformat": 4,
 "nbformat_minor": 2
}
