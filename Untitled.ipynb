{
 "cells": [
  {
   "cell_type": "code",
   "execution_count": 9,
   "metadata": {
    "collapsed": true
   },
   "outputs": [],
   "source": [
    "import pandas as pd\n",
    "import pyproj"
   ]
  },
  {
   "cell_type": "code",
   "execution_count": 2,
   "metadata": {
    "collapsed": true
   },
   "outputs": [],
   "source": [
    "df = pd.read_csv('facilities.csv')"
   ]
  },
  {
   "cell_type": "code",
   "execution_count": 83,
   "metadata": {},
   "outputs": [
    {
     "data": {
      "text/plain": [
       "(-7.120910281675608, 34.53088230742403)"
      ]
     },
     "execution_count": 83,
     "metadata": {},
     "output_type": "execute_result"
    }
   ],
   "source": [
    "def convert(x, y):\n",
    "    state_plane = pyproj.Proj(init='EPSG:4876', preserve_units=False)\n",
    "    wgs = pyproj.Proj(proj='latlong', datum='WGS84', ellps='WGS84')\n",
    "    lng, lat = pyproj.transform(state_plane, wgs, x, y)\n",
    "    return lat, lng\n",
    "x = convert(989991.6987, 204799.5034)\n",
    "x\n",
    "#989991.6987,204799.5034"
   ]
  },
  {
   "cell_type": "code",
   "execution_count": 76,
   "metadata": {},
   "outputs": [
    {
     "name": "stdout",
     "output_type": "stream",
     "text": [
      "-65.68741022013587 41.71971806365905\n"
     ]
    }
   ],
   "source": [
    "\n",
    "# from pyproj import Proj\n",
    "# p = Proj(init='epsg:3359')\n",
    "# lon, lat = p(21109260., 7382520., inverse=True)\n",
    "# print (lon, lat)\n",
    "from pyproj import Proj, transform\n",
    "\n",
    "inProj = Proj(init='EPSG:2263')\n",
    "outProj = Proj(init='EPSG:4236')\n",
    "x1,y1 = 989991.6987, 204799.5034\n",
    "x2,y2 = transform(inProj,outProj,x1,y1)\n",
    "print (x2,y2)"
   ]
  },
  {
   "cell_type": "code",
   "execution_count": 73,
   "metadata": {},
   "outputs": [
    {
     "ename": "RuntimeError",
     "evalue": "b'no system list, errno: 2\\n'",
     "output_type": "error",
     "traceback": [
      "\u001b[0;31m---------------------------------------------------------------------------\u001b[0m",
      "\u001b[0;31mRuntimeError\u001b[0m                              Traceback (most recent call last)",
      "\u001b[0;32m<ipython-input-73-2c9ab1914272>\u001b[0m in \u001b[0;36m<module>\u001b[0;34m()\u001b[0m\n\u001b[1;32m      1\u001b[0m \u001b[0mNAD83\u001b[0m \u001b[0;34m=\u001b[0m \u001b[0mpyproj\u001b[0m\u001b[0;34m.\u001b[0m\u001b[0mProj\u001b[0m\u001b[0;34m(\u001b[0m\u001b[0minit\u001b[0m\u001b[0;34m=\u001b[0m\u001b[0;34m\"EPSG:4269\"\u001b[0m\u001b[0;34m)\u001b[0m\u001b[0;34m\u001b[0m\u001b[0m\n\u001b[0;32m----> 2\u001b[0;31m \u001b[0mNYSP1983\u001b[0m \u001b[0;34m=\u001b[0m \u001b[0mpyproj\u001b[0m\u001b[0;34m.\u001b[0m\u001b[0mProj\u001b[0m\u001b[0;34m(\u001b[0m\u001b[0minit\u001b[0m\u001b[0;34m=\u001b[0m\u001b[0;34m\"ESRI:102718\"\u001b[0m\u001b[0;34m)\u001b[0m\u001b[0;34m\u001b[0m\u001b[0m\n\u001b[0m\u001b[1;32m      3\u001b[0m \u001b[0mx\u001b[0m\u001b[0;34m,\u001b[0m \u001b[0my\u001b[0m \u001b[0;34m=\u001b[0m \u001b[0;34m(\u001b[0m\u001b[0;36m984533\u001b[0m\u001b[0;34m,\u001b[0m \u001b[0;36m213998\u001b[0m\u001b[0;34m)\u001b[0m\u001b[0;34m\u001b[0m\u001b[0m\n\u001b[1;32m      4\u001b[0m \u001b[0mNYSP1983\u001b[0m\u001b[0;34m(\u001b[0m\u001b[0mx\u001b[0m\u001b[0;34m,\u001b[0m \u001b[0my\u001b[0m\u001b[0;34m,\u001b[0m \u001b[0minverse\u001b[0m\u001b[0;34m=\u001b[0m\u001b[0;32mTrue\u001b[0m\u001b[0;34m)\u001b[0m\u001b[0;34m\u001b[0m\u001b[0m\n",
      "\u001b[0;32m~/espol-2017/analisis_datos/proyecto/lib/python3.5/site-packages/pyproj/__init__.py\u001b[0m in \u001b[0;36m__new__\u001b[0;34m(self, projparams, preserve_units, **kwargs)\u001b[0m\n\u001b[1;32m    356\u001b[0m         \u001b[0;31m# on case-insensitive filesystems).\u001b[0m\u001b[0;34m\u001b[0m\u001b[0;34m\u001b[0m\u001b[0m\n\u001b[1;32m    357\u001b[0m         \u001b[0mprojstring\u001b[0m \u001b[0;34m=\u001b[0m \u001b[0mprojstring\u001b[0m\u001b[0;34m.\u001b[0m\u001b[0mreplace\u001b[0m\u001b[0;34m(\u001b[0m\u001b[0;34m'EPSG'\u001b[0m\u001b[0;34m,\u001b[0m\u001b[0;34m'epsg'\u001b[0m\u001b[0;34m)\u001b[0m\u001b[0;34m\u001b[0m\u001b[0m\n\u001b[0;32m--> 358\u001b[0;31m         \u001b[0;32mreturn\u001b[0m \u001b[0m_proj\u001b[0m\u001b[0;34m.\u001b[0m\u001b[0mProj\u001b[0m\u001b[0;34m.\u001b[0m\u001b[0m__new__\u001b[0m\u001b[0;34m(\u001b[0m\u001b[0mself\u001b[0m\u001b[0;34m,\u001b[0m \u001b[0mprojstring\u001b[0m\u001b[0;34m)\u001b[0m\u001b[0;34m\u001b[0m\u001b[0m\n\u001b[0m\u001b[1;32m    359\u001b[0m \u001b[0;34m\u001b[0m\u001b[0m\n\u001b[1;32m    360\u001b[0m     \u001b[0;32mdef\u001b[0m \u001b[0m__call__\u001b[0m\u001b[0;34m(\u001b[0m\u001b[0mself\u001b[0m\u001b[0;34m,\u001b[0m \u001b[0;34m*\u001b[0m\u001b[0margs\u001b[0m\u001b[0;34m,\u001b[0m \u001b[0;34m**\u001b[0m\u001b[0mkw\u001b[0m\u001b[0;34m)\u001b[0m\u001b[0;34m:\u001b[0m\u001b[0;34m\u001b[0m\u001b[0m\n",
      "\u001b[0;32m_proj.pyx\u001b[0m in \u001b[0;36m_proj.Proj.__cinit__ (_proj.c:1170)\u001b[0;34m()\u001b[0m\n",
      "\u001b[0;31mRuntimeError\u001b[0m: b'no system list, errno: 2\\n'"
     ]
    }
   ],
   "source": [
    "NAD83 = pyproj.Proj(init=\"EPSG:4269\")\n",
    "NYSP1983 = pyproj.Proj(init=\"ESRI:102718\")\n",
    "x, y = (984533, 213998)\n",
    "NYSP1983(x, y, inverse=True)"
   ]
  },
  {
   "cell_type": "code",
   "execution_count": 62,
   "metadata": {
    "scrolled": false
   },
   "outputs": [
    {
     "data": {
      "text/html": [
       "<div>\n",
       "<style>\n",
       "    .dataframe thead tr:only-child th {\n",
       "        text-align: right;\n",
       "    }\n",
       "\n",
       "    .dataframe thead th {\n",
       "        text-align: left;\n",
       "    }\n",
       "\n",
       "    .dataframe tbody tr th {\n",
       "        vertical-align: top;\n",
       "    }\n",
       "</style>\n",
       "<table border=\"1\" class=\"dataframe\">\n",
       "  <thead>\n",
       "    <tr style=\"text-align: right;\">\n",
       "      <th></th>\n",
       "      <th>uid</th>\n",
       "      <th>idold</th>\n",
       "      <th>idagency</th>\n",
       "      <th>facname</th>\n",
       "      <th>addressnum</th>\n",
       "      <th>streetname</th>\n",
       "      <th>address</th>\n",
       "      <th>city</th>\n",
       "      <th>boro</th>\n",
       "      <th>borocode</th>\n",
       "      <th>zipcode</th>\n",
       "      <th>latitude</th>\n",
       "      <th>longitude</th>\n",
       "      <th>xcoord</th>\n",
       "      <th>ycoord</th>\n",
       "      <th>bin</th>\n",
       "      <th>bbl</th>\n",
       "      <th>commboard</th>\n",
       "      <th>council</th>\n",
       "      <th>censtract</th>\n",
       "      <th>nta</th>\n",
       "      <th>facdomain</th>\n",
       "      <th>facgroup</th>\n",
       "      <th>facsubgrp</th>\n",
       "      <th>factype</th>\n",
       "      <th>capacity</th>\n",
       "      <th>util</th>\n",
       "      <th>captype</th>\n",
       "      <th>utilrate</th>\n",
       "      <th>area</th>\n",
       "      <th>areatype</th>\n",
       "      <th>proptype</th>\n",
       "      <th>optype</th>\n",
       "      <th>opname</th>\n",
       "      <th>opabbrev</th>\n",
       "      <th>overlevel</th>\n",
       "      <th>overagency</th>\n",
       "      <th>overabbrev</th>\n",
       "      <th>datasource</th>\n",
       "      <th>dataname</th>\n",
       "      <th>dataurl</th>\n",
       "      <th>datadate</th>\n",
       "      <th>pgtable</th>\n",
       "      <th>uid_merged</th>\n",
       "      <th>geom</th>\n",
       "    </tr>\n",
       "  </thead>\n",
       "  <tbody>\n",
       "    <tr>\n",
       "      <th>0</th>\n",
       "      <td>74595</td>\n",
       "      <td>NaN</td>\n",
       "      <td>NYSOMH: 173099-6331-301</td>\n",
       "      <td>Sylvia Del Villard CDTP</td>\n",
       "      <td>540</td>\n",
       "      <td>East   13 Street</td>\n",
       "      <td>540 East   13 Street</td>\n",
       "      <td>New York</td>\n",
       "      <td>Manhattan</td>\n",
       "      <td>1</td>\n",
       "      <td>10009.0</td>\n",
       "      <td>40.728802</td>\n",
       "      <td>-73.979284</td>\n",
       "      <td>9.899917e+05</td>\n",
       "      <td>204799.5034</td>\n",
       "      <td>1005213</td>\n",
       "      <td>1004060024</td>\n",
       "      <td>103.0</td>\n",
       "      <td>2</td>\n",
       "      <td>3400</td>\n",
       "      <td>MN22</td>\n",
       "      <td>Health and Human Services</td>\n",
       "      <td>Health Care</td>\n",
       "      <td>Mental Health</td>\n",
       "      <td>Outpatient Mental Health</td>\n",
       "      <td>NaN</td>\n",
       "      <td>NaN</td>\n",
       "      <td>NaN</td>\n",
       "      <td>NaN</td>\n",
       "      <td>NaN</td>\n",
       "      <td>NaN</td>\n",
       "      <td>NaN</td>\n",
       "      <td>Non-public</td>\n",
       "      <td>NYC-HHC Gouverneur Hospital D&amp;TC</td>\n",
       "      <td>Non-public</td>\n",
       "      <td>NYSOMH: State</td>\n",
       "      <td>NYS Office of Mental Health</td>\n",
       "      <td>NYSOMH</td>\n",
       "      <td>NYSOMH</td>\n",
       "      <td>NYSOMH: Local Mental Health Programs</td>\n",
       "      <td>NYSOMH: https://data.ny.gov/Human-Services/Local-Mental-Health-Programs/6nvr-tbv8</td>\n",
       "      <td>NYSOMH: 2017-05-05</td>\n",
       "      <td>nysomh_facilities_mentalhealth</td>\n",
       "      <td>NaN</td>\n",
       "      <td>0101000020E610000066525596AC7E52C0E55A3863495D4440</td>\n",
       "    </tr>\n",
       "    <tr>\n",
       "      <th>1</th>\n",
       "      <td>25417</td>\n",
       "      <td>NaN</td>\n",
       "      <td>NYSED: 800000077593</td>\n",
       "      <td>Corona Sda Church Vbs</td>\n",
       "      <td>35-30</td>\n",
       "      <td>103 Street</td>\n",
       "      <td>35-30 103 Street</td>\n",
       "      <td>Corona</td>\n",
       "      <td>Queens</td>\n",
       "      <td>4</td>\n",
       "      <td>11368.0</td>\n",
       "      <td>40.753795</td>\n",
       "      <td>-73.865001</td>\n",
       "      <td>1.021652e+06</td>\n",
       "      <td>213933.2927</td>\n",
       "      <td>4043320</td>\n",
       "      <td>4017430020</td>\n",
       "      <td>403.0</td>\n",
       "      <td>21</td>\n",
       "      <td>37900</td>\n",
       "      <td>QN26</td>\n",
       "      <td>Education, Child Welfare, and Youth</td>\n",
       "      <td>Child Services and Welfare</td>\n",
       "      <td>Child Nutrition</td>\n",
       "      <td>Summer Only Feeding Site</td>\n",
       "      <td>NaN</td>\n",
       "      <td>NaN</td>\n",
       "      <td>NaN</td>\n",
       "      <td>NaN</td>\n",
       "      <td>NaN</td>\n",
       "      <td>NaN</td>\n",
       "      <td>NaN</td>\n",
       "      <td>Non-public</td>\n",
       "      <td>Corona Seventh Day Adventist Church Vbs</td>\n",
       "      <td>Non-public</td>\n",
       "      <td>NYSED: State</td>\n",
       "      <td>NYS Education Department</td>\n",
       "      <td>NYSED</td>\n",
       "      <td>NYSED</td>\n",
       "      <td>NYSED: Listings - Active Institutions with GIS coordinates and OITS Accuracy Code</td>\n",
       "      <td>NYSED: https://portal.nysed.gov/discoverer/app/grid;jsessionid=eikT4MZCXS4gnCu4gkga8RxAT-LFQX1XhLGyOQErv16YJWGj_jo8!-214928944?bi_origin=dvtb&amp;bi_cPath=dvtb&amp;numberLocale=en_US&amp;source=dvtb&amp;gotoNthPage=1&amp;bi_tool=rt&amp;event=bi_showTool&amp;bi_rowvdv=s25&amp;stateStr=eNrtVlFzmzgQ%2FjPY0xtPMiBjJ3nwg4vdlGmKe8ZpmnthZEkYJRgIksHOr79Fog71JO1Q957OL9rVov202tWKz2DbLDa65VKOUDdJKRuhq67IRt08TeXI7LKCJXIEi3BCu0JiyUbvhoO%2FDJwZHTSkYac%2FASm0SIiWNyFmyTV5pBEqNbEDkSBe2S5HFEwgBbJjLKRxFJgLNXtAioAAWcnmIRbDvIskxw9RnNWdi5mCJzFuNMKQu8jJnSPqS5knOWpbkU5066SeROmSZMEADDaQkoIY4Fa0JftIYeU1gthLLd8IShJtxl%240g5xImG4Ro8t%24u4CTaowCLGpHKwzmfuwlfqtavlmBAlHSha03HYOoov0U5wgmMNe3BCqyqvqAos880PG%2FUPIrzmtVearLjcUL1ZB11%2466CrpqP9liOWP%2FjdH%2FhZrU%2Fm0%2FjVHKHfRqov1B7pqj1S1UQNiPa3xk1ElSjJ00TZ%2Fc1Se%24wy9lqQV8d0UJ06KUQgqgMff7uU8jmlPOSM6nhVRpw4giFJ8zUsRs73bsX50yu9ax6dNZc269ga7oat6jN5eN2M7DfuVp2Gg1vab5%2FqNNvEOH8tKrv9U0ckL1ijPvs7YB5%2Fn96o9VMW%24CxmRL8MdaFq5%2F5kANM%24DsPwUine9E59v5%2FNP0mw6s%2Fv5zPv28v0k%24td%249V0qKZ%2F306nnpprjLnrfPw88yaykarB0Vdr34gHFUX%2FYffsNxn%24ufAP3hHUvvD%2F8IzQQQPj4s%24%2FdodJRkdv8SVKk%2FovBEO%2FCd4%2FGvw2r%2F7zlIqC5QBmad4Tadpj0wKG7eOZtY57sECA13NpnZtl73G3pUVviZ9LmBABVnRZ7rYZ6RWglw%2477QMtgE3YZVFhAXEyNbRc%2FgRSfd9tl1zEshIkSis8Bbc3rtR4ZnMqo548s55L2zSrJUseMb6K5IHxOseUA2%2Fskeh7aBrkQW%24n4hJrEFWIGc7xWrwk4EQBTxTwRAFPFPBEAU8U8EQBTxTwf0EBY6LpTwlPkl33gv1CC1eKFyrTT%24ncr9ncg1piZDmnxo3rL6rmCIKxs3C%2FTgPXA8PiduHOPD%244cxcfA6AagTObzSeuN15M%2FWDsTYKKh4CHczsfO%2FfwdTLtoA%24WQeQuMwrOSpb%2FCyl4PR4%3D</td>\n",
       "      <td>NYSED: 2016-08-27</td>\n",
       "      <td>nysed_facilities_activeinstitutions</td>\n",
       "      <td>NaN</td>\n",
       "      <td>0101000020E6100000974D782E5C7752C0B4A57A597C604440</td>\n",
       "    </tr>\n",
       "  </tbody>\n",
       "</table>\n",
       "</div>"
      ],
      "text/plain": [
       "     uid idold                 idagency                  facname addressnum  \\\n",
       "0  74595  NaN   NYSOMH: 173099-6331-301  Sylvia Del Villard CDTP  540         \n",
       "1  25417  NaN   NYSED: 800000077593      Corona Sda Church Vbs    35-30       \n",
       "\n",
       "         streetname               address      city       boro  borocode  \\\n",
       "0  East   13 Street  540 East   13 Street  New York  Manhattan  1          \n",
       "1  103 Street        35-30 103 Street      Corona    Queens     4          \n",
       "\n",
       "   zipcode   latitude  longitude        xcoord       ycoord      bin  \\\n",
       "0  10009.0  40.728802 -73.979284  9.899917e+05  204799.5034  1005213   \n",
       "1  11368.0  40.753795 -73.865001  1.021652e+06  213933.2927  4043320   \n",
       "\n",
       "          bbl  commboard  council  censtract   nta  \\\n",
       "0  1004060024  103.0      2        3400       MN22   \n",
       "1  4017430020  403.0      21       37900      QN26   \n",
       "\n",
       "                             facdomain                    facgroup  \\\n",
       "0  Health and Human Services            Health Care                  \n",
       "1  Education, Child Welfare, and Youth  Child Services and Welfare   \n",
       "\n",
       "         facsubgrp                   factype capacity util captype utilrate  \\\n",
       "0  Mental Health    Outpatient Mental Health  NaN      NaN  NaN     NaN       \n",
       "1  Child Nutrition  Summer Only Feeding Site  NaN      NaN  NaN     NaN       \n",
       "\n",
       "  area areatype proptype      optype                                   opname  \\\n",
       "0  NaN  NaN      NaN      Non-public  NYC-HHC Gouverneur Hospital D&TC          \n",
       "1  NaN  NaN      NaN      Non-public  Corona Seventh Day Adventist Church Vbs   \n",
       "\n",
       "     opabbrev      overlevel                   overagency overabbrev  \\\n",
       "0  Non-public  NYSOMH: State  NYS Office of Mental Health  NYSOMH      \n",
       "1  Non-public  NYSED: State   NYS Education Department     NYSED       \n",
       "\n",
       "  datasource  \\\n",
       "0  NYSOMH      \n",
       "1  NYSED       \n",
       "\n",
       "                                                                            dataname  \\\n",
       "0  NYSOMH: Local Mental Health Programs                                                \n",
       "1  NYSED: Listings - Active Institutions with GIS coordinates and OITS Accuracy Code   \n",
       "\n",
       "                                                                                                                                                                                                                                                                                                                                                                                                                                                                                                                                                                                                                                                                                                                                                                                                                                                                                                                                                                                                                                                                                                                                                                                                                                                                                                                                                                                                                                                                                                                                   dataurl  \\\n",
       "0  NYSOMH: https://data.ny.gov/Human-Services/Local-Mental-Health-Programs/6nvr-tbv8                                                                                                                                                                                                                                                                                                                                                                                                                                                                                                                                                                                                                                                                                                                                                                                                                                                                                                                                                                                                                                                                                                                                                                                                                                                                                                                                                                                                                                                         \n",
       "1  NYSED: https://portal.nysed.gov/discoverer/app/grid;jsessionid=eikT4MZCXS4gnCu4gkga8RxAT-LFQX1XhLGyOQErv16YJWGj_jo8!-214928944?bi_origin=dvtb&bi_cPath=dvtb&numberLocale=en_US&source=dvtb&gotoNthPage=1&bi_tool=rt&event=bi_showTool&bi_rowvdv=s25&stateStr=eNrtVlFzmzgQ%2FjPY0xtPMiBjJ3nwg4vdlGmKe8ZpmnthZEkYJRgIksHOr79Fog71JO1Q957OL9rVov202tWKz2DbLDa65VKOUDdJKRuhq67IRt08TeXI7LKCJXIEi3BCu0JiyUbvhoO%2FDJwZHTSkYac%2FASm0SIiWNyFmyTV5pBEqNbEDkSBe2S5HFEwgBbJjLKRxFJgLNXtAioAAWcnmIRbDvIskxw9RnNWdi5mCJzFuNMKQu8jJnSPqS5knOWpbkU5066SeROmSZMEADDaQkoIY4Fa0JftIYeU1gthLLd8IShJtxl%240g5xImG4Ro8t%24u4CTaowCLGpHKwzmfuwlfqtavlmBAlHSha03HYOoov0U5wgmMNe3BCqyqvqAos880PG%2FUPIrzmtVearLjcUL1ZB11%2466CrpqP9liOWP%2FjdH%2FhZrU%2Fm0%2FjVHKHfRqov1B7pqj1S1UQNiPa3xk1ElSjJ00TZ%2Fc1Se%24wy9lqQV8d0UJ06KUQgqgMff7uU8jmlPOSM6nhVRpw4giFJ8zUsRs73bsX50yu9ax6dNZc269ga7oat6jN5eN2M7DfuVp2Gg1vab5%2FqNNvEOH8tKrv9U0ckL1ijPvs7YB5%2Fn96o9VMW%24CxmRL8MdaFq5%2F5kANM%24DsPwUine9E59v5%2FNP0mw6s%2Fv5zPv28v0k%24td%249V0qKZ%2F306nnpprjLnrfPw88yaykarB0Vdr34gHFUX%2FYffsNxn%24ufAP3hHUvvD%2F8IzQQQPj4s%24%2FdodJRkdv8SVKk%2FovBEO%2FCd4%2FGvw2r%2F7zlIqC5QBmad4Tadpj0wKG7eOZtY57sECA13NpnZtl73G3pUVviZ9LmBABVnRZ7rYZ6RWglw%2477QMtgE3YZVFhAXEyNbRc%2FgRSfd9tl1zEshIkSis8Bbc3rtR4ZnMqo548s55L2zSrJUseMb6K5IHxOseUA2%2Fskeh7aBrkQW%24n4hJrEFWIGc7xWrwk4EQBTxTwRAFPFPBEAU8U8EQBTxTwf0EBY6LpTwlPkl33gv1CC1eKFyrTT%24ncr9ncg1piZDmnxo3rL6rmCIKxs3C%2FTgPXA8PiduHOPD%244cxcfA6AagTObzSeuN15M%2FWDsTYKKh4CHczsfO%2FfwdTLtoA%24WQeQuMwrOSpb%2FCyl4PR4%3D   \n",
       "\n",
       "             datadate                              pgtable uid_merged  \\\n",
       "0  NYSOMH: 2017-05-05  nysomh_facilities_mentalhealth       NaN         \n",
       "1  NYSED: 2016-08-27   nysed_facilities_activeinstitutions  NaN         \n",
       "\n",
       "                                                 geom  \n",
       "0  0101000020E610000066525596AC7E52C0E55A3863495D4440  \n",
       "1  0101000020E6100000974D782E5C7752C0B4A57A597C604440  "
      ]
     },
     "execution_count": 62,
     "metadata": {},
     "output_type": "execute_result"
    }
   ],
   "source": [
    "df.head(2)"
   ]
  }
 ],
 "metadata": {
  "kernelspec": {
   "display_name": "Python 3",
   "language": "python",
   "name": "python3"
  },
  "language_info": {
   "codemirror_mode": {
    "name": "ipython",
    "version": 3
   },
   "file_extension": ".py",
   "mimetype": "text/x-python",
   "name": "python",
   "nbconvert_exporter": "python",
   "pygments_lexer": "ipython3",
   "version": "3.5.2"
  }
 },
 "nbformat": 4,
 "nbformat_minor": 2
}
