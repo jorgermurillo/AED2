{
 "cells": [
  {
   "cell_type": "code",
   "execution_count": 1,
   "metadata": {
    "collapsed": true
   },
   "outputs": [],
   "source": [
    "import pandas as pd"
   ]
  },
  {
   "cell_type": "code",
   "execution_count": 4,
   "metadata": {},
   "outputs": [],
   "source": [
    "df = pd.read_csv('data/1januarynew.csv', compression=None, header=0, sep=',')"
   ]
  },
  {
   "cell_type": "code",
   "execution_count": 5,
   "metadata": {
    "scrolled": false
   },
   "outputs": [
    {
     "data": {
      "text/html": [
       "<div>\n",
       "<style>\n",
       "    .dataframe thead tr:only-child th {\n",
       "        text-align: right;\n",
       "    }\n",
       "\n",
       "    .dataframe thead th {\n",
       "        text-align: left;\n",
       "    }\n",
       "\n",
       "    .dataframe tbody tr th {\n",
       "        vertical-align: top;\n",
       "    }\n",
       "</style>\n",
       "<table border=\"1\" class=\"dataframe\">\n",
       "  <thead>\n",
       "    <tr style=\"text-align: right;\">\n",
       "      <th></th>\n",
       "      <th>pickup_datetime</th>\n",
       "      <th>pickup_latitude</th>\n",
       "      <th>pickup_longitude</th>\n",
       "      <th>trip_distance</th>\n",
       "      <th>passenger_count</th>\n",
       "      <th>dropoff_datetime</th>\n",
       "      <th>dropoff_latitude</th>\n",
       "      <th>dropoff_longitude</th>\n",
       "      <th>fare_amount</th>\n",
       "      <th>tolls_amount</th>\n",
       "      <th>taxes_amount</th>\n",
       "      <th>tip_amount</th>\n",
       "      <th>payment_amount</th>\n",
       "      <th>payment_type</th>\n",
       "      <th>pickup_neighborhood</th>\n",
       "      <th>dropoff_neighborhood</th>\n",
       "    </tr>\n",
       "  </thead>\n",
       "  <tbody>\n",
       "    <tr>\n",
       "      <th>0</th>\n",
       "      <td>2016-01-01 00:00:00</td>\n",
       "      <td>40.73470</td>\n",
       "      <td>-73.99037</td>\n",
       "      <td>1.10</td>\n",
       "      <td>2</td>\n",
       "      <td>2016-01-01 00:00:00</td>\n",
       "      <td>40.73241</td>\n",
       "      <td>-73.98184</td>\n",
       "      <td>7.5</td>\n",
       "      <td>0.0</td>\n",
       "      <td>1.3</td>\n",
       "      <td>0.0</td>\n",
       "      <td>8.8</td>\n",
       "      <td>2</td>\n",
       "      <td>Greenwich Village</td>\n",
       "      <td>Gramercy</td>\n",
       "    </tr>\n",
       "    <tr>\n",
       "      <th>1</th>\n",
       "      <td>2016-01-01 00:00:00</td>\n",
       "      <td>40.72991</td>\n",
       "      <td>-73.98078</td>\n",
       "      <td>4.90</td>\n",
       "      <td>5</td>\n",
       "      <td>2016-01-01 00:00:00</td>\n",
       "      <td>40.71668</td>\n",
       "      <td>-73.94447</td>\n",
       "      <td>18.0</td>\n",
       "      <td>0.0</td>\n",
       "      <td>1.3</td>\n",
       "      <td>0.0</td>\n",
       "      <td>19.3</td>\n",
       "      <td>1</td>\n",
       "      <td>East Village</td>\n",
       "      <td>NaN</td>\n",
       "    </tr>\n",
       "    <tr>\n",
       "      <th>2</th>\n",
       "      <td>2016-01-01 00:00:00</td>\n",
       "      <td>40.67957</td>\n",
       "      <td>-73.98455</td>\n",
       "      <td>10.54</td>\n",
       "      <td>1</td>\n",
       "      <td>2016-01-01 00:00:00</td>\n",
       "      <td>40.78893</td>\n",
       "      <td>-73.95027</td>\n",
       "      <td>33.0</td>\n",
       "      <td>0.0</td>\n",
       "      <td>1.3</td>\n",
       "      <td>0.0</td>\n",
       "      <td>34.3</td>\n",
       "      <td>1</td>\n",
       "      <td>Boerum Hill</td>\n",
       "      <td>Yorkville</td>\n",
       "    </tr>\n",
       "    <tr>\n",
       "      <th>3</th>\n",
       "      <td>2016-01-01 00:00:00</td>\n",
       "      <td>40.71899</td>\n",
       "      <td>-73.99347</td>\n",
       "      <td>4.75</td>\n",
       "      <td>1</td>\n",
       "      <td>2016-01-01 00:00:00</td>\n",
       "      <td>40.65733</td>\n",
       "      <td>-73.96224</td>\n",
       "      <td>16.5</td>\n",
       "      <td>0.0</td>\n",
       "      <td>0.8</td>\n",
       "      <td>0.0</td>\n",
       "      <td>17.3</td>\n",
       "      <td>2</td>\n",
       "      <td>Lower East Side</td>\n",
       "      <td>NaN</td>\n",
       "    </tr>\n",
       "    <tr>\n",
       "      <th>4</th>\n",
       "      <td>2016-01-01 00:00:00</td>\n",
       "      <td>40.78133</td>\n",
       "      <td>-73.96062</td>\n",
       "      <td>1.76</td>\n",
       "      <td>3</td>\n",
       "      <td>2016-01-01 00:00:00</td>\n",
       "      <td>40.75851</td>\n",
       "      <td>-73.97726</td>\n",
       "      <td>8.0</td>\n",
       "      <td>0.0</td>\n",
       "      <td>0.8</td>\n",
       "      <td>0.0</td>\n",
       "      <td>8.8</td>\n",
       "      <td>2</td>\n",
       "      <td>Upper East Side</td>\n",
       "      <td>Midtown</td>\n",
       "    </tr>\n",
       "  </tbody>\n",
       "</table>\n",
       "</div>"
      ],
      "text/plain": [
       "       pickup_datetime  pickup_latitude  pickup_longitude  trip_distance  \\\n",
       "0  2016-01-01 00:00:00         40.73470         -73.99037           1.10   \n",
       "1  2016-01-01 00:00:00         40.72991         -73.98078           4.90   \n",
       "2  2016-01-01 00:00:00         40.67957         -73.98455          10.54   \n",
       "3  2016-01-01 00:00:00         40.71899         -73.99347           4.75   \n",
       "4  2016-01-01 00:00:00         40.78133         -73.96062           1.76   \n",
       "\n",
       "   passenger_count     dropoff_datetime  dropoff_latitude  dropoff_longitude  \\\n",
       "0                2  2016-01-01 00:00:00          40.73241          -73.98184   \n",
       "1                5  2016-01-01 00:00:00          40.71668          -73.94447   \n",
       "2                1  2016-01-01 00:00:00          40.78893          -73.95027   \n",
       "3                1  2016-01-01 00:00:00          40.65733          -73.96224   \n",
       "4                3  2016-01-01 00:00:00          40.75851          -73.97726   \n",
       "\n",
       "   fare_amount  tolls_amount  taxes_amount  tip_amount  payment_amount  \\\n",
       "0          7.5           0.0           1.3         0.0             8.8   \n",
       "1         18.0           0.0           1.3         0.0            19.3   \n",
       "2         33.0           0.0           1.3         0.0            34.3   \n",
       "3         16.5           0.0           0.8         0.0            17.3   \n",
       "4          8.0           0.0           0.8         0.0             8.8   \n",
       "\n",
       "   payment_type pickup_neighborhood dropoff_neighborhood  \n",
       "0             2   Greenwich Village             Gramercy  \n",
       "1             1        East Village                  NaN  \n",
       "2             1         Boerum Hill            Yorkville  \n",
       "3             2     Lower East Side                  NaN  \n",
       "4             2     Upper East Side              Midtown  "
      ]
     },
     "execution_count": 5,
     "metadata": {},
     "output_type": "execute_result"
    }
   ],
   "source": [
    "df.head()"
   ]
  },
  {
   "cell_type": "raw",
   "metadata": {
    "collapsed": true
   },
   "source": [
    "bronx_file = open('Boroughs/bronx','r')"
   ]
  },
  {
   "cell_type": "code",
   "execution_count": 25,
   "metadata": {
    "collapsed": true
   },
   "outputs": [],
   "source": [
    "boroughs = {}"
   ]
  },
  {
   "cell_type": "code",
   "execution_count": 26,
   "metadata": {
    "collapsed": true
   },
   "outputs": [],
   "source": [
    "bronx_file = open('Boroughs/bronx','r')"
   ]
  },
  {
   "cell_type": "code",
   "execution_count": 27,
   "metadata": {},
   "outputs": [
    {
     "name": "stdout",
     "output_type": "stream",
     "text": [
      "{'Crotona Park': 'Bronx', 'Olinville': 'Bronx', 'Fieldston': 'Bronx', 'Van Nest': 'Bronx', 'Fish Bay': 'Bronx', 'Westchester Square': 'Bronx', 'Port Morris': 'Bronx', 'Parkchester': 'Bronx', 'Co-op City': 'Bronx', 'Bedford Park': 'Bronx', 'Morris Heights': 'Bronx', 'Harding Park': 'Bronx', 'Hunts Point': 'Bronx', 'Mott Haven': 'Bronx', 'Williamsbridge': 'Bronx', 'Pelham Bay': 'Bronx', 'Baychester': 'Bronx', 'West Farms': 'Bronx', 'Bathgate': 'Bronx', 'Edenwald': 'Bronx', 'Spuyten Duyvil': 'Bronx', 'Norwood': 'Bronx', 'Allerton': 'Bronx', 'Bruckner': 'Bronx', 'Bronxdale': 'Bronx', 'Kingsbridge': 'Bronx', 'Marble Hill': 'Bronx', 'Pelham Gardens': 'Bronx', 'Van Cortlandt Village': 'Bronx', 'City Island': 'Bronx', 'Eastchester': 'Bronx', 'Wakefield': 'Bronx', 'Riverdale': 'Bronx', 'Clason Point': 'Bronx', 'Melrose': 'Bronx', 'Concourse': 'Bronx', 'Laconia': 'Bronx', 'Castle Hill': 'Bronx', 'Morrisania': 'Bronx', 'Mount Hope': 'Bronx', 'Pelham Parkway': 'Bronx', 'Locust Point': 'Bronx', 'East Tremont': 'Bronx', 'Concourse Village': 'Bronx', 'High Bridge': 'Bronx', 'Fordham': 'Bronx', 'Bronx River': 'Bronx', 'Unionport': 'Bronx', 'Claremont': 'Bronx', 'Kingsbridge Heights': 'Bronx', 'Woodlawn': 'Bronx', 'Soundview': 'Bronx', 'Morris Park': 'Bronx', 'Throgs Neck': 'Bronx', 'Silver Beach': 'Bronx', 'Indian Village': 'Bronx', 'University Heights': 'Bronx', 'Belmont': 'Bronx', 'Longwood': 'Bronx'}\n"
     ]
    }
   ],
   "source": [
    "for line in bronx_file:\n",
    "    neighborhoods = line.split(',')\n",
    "    for e in neighborhoods:\n",
    "        e = e.strip(\" \").strip(\"\\n\")\n",
    "        boroughs[e] = 'Bronx'\n",
    "print(boroughs)"
   ]
  },
  {
   "cell_type": "code",
   "execution_count": 28,
   "metadata": {
    "collapsed": true
   },
   "outputs": [],
   "source": [
    "manhattan_file = open('Boroughs/manhattan','r')"
   ]
  },
  {
   "cell_type": "code",
   "execution_count": 30,
   "metadata": {
    "scrolled": true
   },
   "outputs": [
    {
     "name": "stdout",
     "output_type": "stream",
     "text": [
      "{'Roosevelt Island': 'Manhattan', 'Port Morris': 'Bronx', 'SoHo': 'Manhattan', 'Co-op City': 'Bronx', 'Morris Heights': 'Bronx', 'Sutton Place': 'Manhattan', 'Upper West Side': 'Manhattan', 'Van Nest': 'Bronx', 'Mott Haven': 'Bronx', 'Harlem': 'Manhattan', 'Upper East Side': 'Manhattan', 'Indian Village': 'Bronx', 'Olinville': 'Bronx', 'Edenwald': 'Bronx', 'Spuyten Duyvil': 'Bronx', 'Williamsbridge': 'Bronx', 'Allerton': 'Bronx', 'Lincoln Square': 'Manhattan', 'Kingsbridge': 'Bronx', 'Greenwich Village': 'Manhattan', 'Stuyvesant Town': 'Manhattan', 'Manhattan Valley': 'Manhattan', 'Van Cortlandt Village': 'Bronx', 'City Island': 'Bronx', 'Eastchester': 'Bronx', 'Unionport': 'Bronx', 'Pelham Gardens': 'Bronx', 'Melrose': 'Bronx', 'Clinton': 'Manhattan', 'Alphabet City': 'Manhattan', 'Mount Hope': 'Bronx', 'Battery Park City': 'Manhattan', 'East Harlem': 'Manhattan', 'Yorkville': 'Manhattan', 'Murray Hill': 'Manhattan', 'High Bridge': 'Bronx', 'Wards Island': 'Manhattan', 'Belmont': 'Bronx', 'Gramercy Park': 'Manhattan', 'Bronx River': 'Bronx', 'Washington Heights': 'Manhattan', 'Chinatown': 'Manhattan', 'Spanish Harlem': 'Manhattan', 'Lenox Hill': 'Manhattan', 'Financial District': 'Manhattan', 'Silver Beach': 'Bronx', 'Polo Grounds': 'Manhattan', 'University Heights': 'Bronx', 'Riverdale': 'Bronx', 'Longwood': 'Bronx', 'Crotona Park': 'Bronx', 'Waterside Plaza': 'Manhattan', 'Fieldston': 'Bronx', 'Hunts Point': 'Bronx', 'Fish Bay': 'Bronx', 'Westchester Square': 'Bronx', 'Parkchester': 'Bronx', 'Concourse': 'Bronx', 'Peter Cooper Village': 'Manhattan', 'Harding Park': 'Bronx', 'Pelham Bay': 'Bronx', 'Little Italy': 'Manhattan', 'West Farms': 'Bronx', 'Bathgate': 'Bronx', 'Turtle Bay': 'Manhattan', 'Morningside Heights': 'Manhattan', 'Bruckner': 'Bronx', 'Bronxdale': 'Bronx', 'Marble Hill': 'Bronx', 'Hamilton Heights': 'Manhattan', 'Randall’s Island': 'Manhattan', 'Baychester': 'Bronx', 'Pelham Parkway': 'Bronx', 'Midtown': 'Manhattan', 'Wakefield': 'Bronx', 'Clason Point': 'Bronx', 'Bedford Park': 'Bronx', 'Laconia': 'Bronx', 'Castle Hill': 'Bronx', 'Chelsea': 'Manhattan', 'Two Bridges': 'Manhattan', 'Morrisania': 'Bronx', 'Locust Point': 'Bronx', 'East Tremont': 'Bronx', 'Concourse Village': 'Bronx', 'TriBeCa': 'Manhattan', 'Inwood': 'Manhattan', 'Fordham': 'Bronx', 'Norwood': 'Bronx', 'Lower East Side': 'Manhattan', 'Tudor City': 'Manhattan', 'Claremont': 'Bronx', 'Kingsbridge Heights': 'Bronx', 'East Village': 'Manhattan', 'Woodlawn': 'Bronx', 'Soundview': 'Bronx', 'Manhattanville': 'Manhattan', 'Morris Park': 'Bronx', 'Throgs Neck': 'Bronx', 'Kips Bay': 'Manhattan', 'West Village': 'Manhattan', 'NoHo': 'Manhattan'}\n"
     ]
    }
   ],
   "source": [
    "for line in manhattan_file:\n",
    "    neighborhoods = line.split(',')\n",
    "    for e in neighborhoods:\n",
    "        e = e.strip(\" \").strip(\"\\n\")\n",
    "        boroughs[e] = 'Manhattan'\n",
    "print(boroughs)"
   ]
  },
  {
   "cell_type": "code",
   "execution_count": 20,
   "metadata": {
    "collapsed": true
   },
   "outputs": [],
   "source": [
    "queens_file = open('Boroughs/queens','r')"
   ]
  },
  {
   "cell_type": "code",
   "execution_count": 31,
   "metadata": {
    "scrolled": true
   },
   "outputs": [
    {
     "name": "stdout",
     "output_type": "stream",
     "text": [
      "{'Rochdale Village': 'Queens', 'Oakland Gardens': 'Queens', 'Cunningham Heights': 'Queens', 'Old Astoria': 'Queens', 'Port Morris': 'Bronx', 'SoHo': 'Manhattan', 'Co-op City': 'Bronx', 'Ozone Park': 'Queens', 'Morris Heights': 'Bronx', 'Malba': 'Queens', 'Corona': 'Queens', 'Sutton Place': 'Manhattan', 'Upper West Side': 'Manhattan', 'Hunts Point': 'Bronx', 'Mott Haven': 'Bronx', 'Harlem': 'Manhattan', 'Kew Gardens': 'Queens', 'Baychester': 'Bronx', 'Flushing': 'Queens', 'Jamaica': 'Queens', 'Baisley Park': 'Queens', 'Edenwald': 'Bronx', 'Spuyten Duyvil': 'Bronx', 'Astoria': 'Queens', 'Allerton': 'Bronx', 'Bellerose': 'Queens', 'Wards Island': 'Manhattan', 'Hunters Point': 'Queens', 'City Island': 'Bronx', 'Eastchester': 'Bronx', 'Liberty Park': 'Queens', 'Belmont': 'Bronx', 'Melrose': 'Bronx', 'Clinton': 'Manhattan', 'Alphabet City': 'Manhattan', 'Briarwood': 'Queens', 'Mount Hope': 'Bronx', 'Queensboro Hill': 'Queens', 'Howard Beach': 'Queens', 'Far Rockaway': 'Queens', 'Fresh Pond': 'Queens', 'Auburndale': 'Queens', 'High Bridge': 'Bronx', 'Gramercy Park': 'Manhattan', 'Pomonok Houses': 'Queens', 'Bronx River': 'Bronx', 'Chinatown': 'Manhattan', 'Lenox Hill': 'Manhattan', 'Flushing South': 'Queens', 'Ridgewood': 'Queens', 'Silver Beach': 'Bronx', 'Hollis Hills': 'Queens', 'University Heights': 'Bronx', 'East Flushing': 'Queens', 'Garden Bay': 'Queens', 'Waterside Plaza': 'Manhattan', 'Fieldston': 'Bronx', 'Fish Bay': 'Bronx', 'Floral Park': 'Queens', 'Parkchester': 'Bronx', 'East Harlem': 'Manhattan', 'Peter Cooper Village': 'Manhattan', 'Utopia': 'Queens', 'Harding Park': 'Bronx', 'Cambria Heights': 'Queens', 'Laconia': 'Bronx', 'Little Italy': 'Manhattan', 'East Elmhurst': 'Queens', 'West Farms': 'Bronx', 'Jackson Heights': 'Queens', 'Bronxdale': 'Bronx', 'Hamilton Heights': 'Manhattan', 'Bayside': 'Queens', 'Fresh Meadows': 'Queens', 'Pelham Gardens': 'Bronx', 'Pelham Parkway': 'Bronx', 'Midtown': 'Manhattan', 'Wakefield': 'Bronx', 'Indian Village': 'Bronx', 'Concourse': 'Bronx', 'Morrisania': 'Bronx', 'Tudor Village': 'Queens', 'Chelsea': 'Manhattan', 'Locust Point': 'Bronx', 'Belle Harbor': 'Queens', 'Norwood': 'Bronx', 'Laurelton': 'Queens', 'Tudor City': 'Manhattan', 'Claremont': 'Bronx', 'Jamaica Estates': 'Queens', 'Forest Hills': 'Queens', 'Soundview': 'Bronx', 'Elmhurst': 'Queens', 'Hollis': 'Queens', 'Throgs Neck': 'Bronx', 'Kips Bay': 'Manhattan', 'South Jamaica': 'Queens', 'Hilltop Village': 'Queens', 'TriBeCa': 'Manhattan', 'Whitestone': 'Queens', 'Steinway': 'Queens', 'Kingsbridge': 'Bronx', 'Roosevelt Island': 'Manhattan', 'Randall’s Island': 'Manhattan', 'Rockaway Park': 'Queens', 'Little Neck': 'Queens', 'Van Nest': 'Bronx', 'Glendale': 'Queens', 'Stuyvesant Town': 'Manhattan', 'Olinville': 'Bronx', 'Williamsbridge': 'Bronx', 'Lincoln Square': 'Manhattan', 'Springfield Gardens': 'Queens', 'Greenwich Village': 'Manhattan', 'Upper East Side': 'Manhattan', 'Westchester Square': 'Bronx', 'Manhattan Valley': 'Manhattan', 'Woodside': 'Queens', 'Van Cortlandt Village': 'Bronx', 'St. Albans': 'Queens', 'Riverdale': 'Bronx', 'South Ozone Park': 'Queens', 'Inwood': 'Manhattan', 'Lindenwood': 'Queens', 'Edgemere': 'Queens', 'Battery Park City': 'Manhattan', 'Long Island City': 'Queens', 'Yorkville': 'Manhattan', 'Rego Park': 'Queens', 'New Hyde Park': 'Queens', 'Douglaston': 'Queens', 'Meadowmere': 'Queens', 'Washington Heights': 'Manhattan', 'Kingsbridge Heights': 'Bronx', 'Maspeth': 'Queens', 'Holliswood': 'Queens', 'Spanish Harlem': 'Manhattan', 'Financial District': 'Manhattan', 'Beechhurst': 'Queens', 'East Village': 'Manhattan', 'Clason Point': 'Bronx', 'Polo Grounds': 'Manhattan', 'Linden Hill': 'Queens', 'Morris Park': 'Bronx', 'Longwood': 'Bronx', 'Crotona Park': 'Bronx', 'Woodhaven': 'Queens', 'Brookville': 'Queens', 'Willets Point': 'Queens', 'Breezy Point': 'Queens', 'Murray Hill': 'Manhattan', 'Ditmars': 'Queens', 'Middle Village': 'Queens', 'Pelham Bay': 'Bronx', 'Arverne': 'Queens', 'Kew Gardens Hills': 'Queens', 'Queensbridge': 'Queens', 'Bathgate': 'Bronx', 'Turtle Bay': 'Manhattan', 'Morningside Heights': 'Manhattan', 'Bruckner': 'Bronx', 'Marble Hill': 'Bronx', 'North Corona': 'Queens', 'College Point': 'Queens', 'Castle Hill': 'Bronx', 'Two Bridges': 'Manhattan', 'Sunnyside': 'Queens', 'Ravenswood': 'Queens', 'East Tremont': 'Bronx', 'Concourse Village': 'Bronx', 'Richmond Hill': 'Queens', 'Queens Village': 'Queens', 'Neponsit': 'Queens', 'Fordham': 'Bronx', 'Glen Oaks': 'Queens', 'Unionport': 'Bronx', 'Lower East Side': 'Manhattan', 'Bay Terrace': 'Queens', 'Rosedale': 'Queens', 'Bedford Park': 'Bronx', 'Woodlawn': 'Bronx', 'Manhattanville': 'Manhattan', 'NoHo': 'Manhattan', 'West Village': 'Manhattan', 'Bayswater': 'Queens'}\n"
     ]
    }
   ],
   "source": [
    "for line in queens_file:\n",
    "    neighborhoods = line.split(',')\n",
    "    for e in neighborhoods:\n",
    "        e = e.strip(\" \").strip(\"\\n\")\n",
    "        boroughs[e] = 'Queens'\n",
    "print(boroughs)"
   ]
  },
  {
   "cell_type": "code",
   "execution_count": 21,
   "metadata": {
    "collapsed": true
   },
   "outputs": [],
   "source": [
    "brooklyn_file = open('Boroughs/brooklyn','r')"
   ]
  },
  {
   "cell_type": "code",
   "execution_count": 32,
   "metadata": {
    "scrolled": true
   },
   "outputs": [
    {
     "name": "stdout",
     "output_type": "stream",
     "text": [
      "{'Rochdale Village': 'Queens', 'Oakland Gardens': 'Queens', 'Cunningham Heights': 'Queens', 'Old Astoria': 'Queens', 'Port Morris': 'Bronx', 'SoHo': 'Manhattan', 'Co-op City': 'Bronx', 'Ozone Park': 'Queens', 'Morris Heights': 'Bronx', 'Malba': 'Queens', 'Corona': 'Queens', 'Sutton Place': 'Manhattan', 'Upper West Side': 'Manhattan', 'Hunts Point': 'Bronx', 'Mott Haven': 'Bronx', 'Windsor Terrace': 'Brooklyn', 'Harlem': 'Manhattan', 'Kew Gardens': 'Queens', 'Baychester': 'Bronx', 'Flushing': 'Queens', 'Jamaica': 'Queens', 'Baisley Park': 'Queens', 'Edenwald': 'Bronx', 'Spuyten Duyvil': 'Bronx', 'Astoria': 'Queens', 'Allerton': 'Bronx', 'Bellerose': 'Queens', 'Wards Island': 'Manhattan', 'Madison': 'Brooklyn', 'Hunters Point': 'Queens', 'City Island': 'Bronx', 'Eastchester': 'Bronx', 'Liberty Park': 'Queens', 'Ditmas Village': 'Brooklyn', 'Belmont': 'Bronx', 'Melrose': 'Bronx', 'Clinton': 'Manhattan', 'Alphabet City': 'Manhattan', 'Canarsie': 'Brooklyn', 'Briarwood': 'Queens', 'DUMBO': 'Brooklyn', 'Mount Hope': 'Bronx', 'Brooklyn Navy Yard': 'Brooklyn', 'Queensboro Hill': 'Queens', 'Cobble Hill': 'Brooklyn', 'Howard Beach': 'Queens', 'Far Rockaway': 'Queens', 'Fresh Pond': 'Queens', 'Auburndale': 'Queens', 'High Bridge': 'Bronx', 'Gowanus': 'Brooklyn', 'Gramercy Park': 'Manhattan', 'Pomonok Houses': 'Queens', 'Bronx River': 'Bronx', 'Mill Island': 'Brooklyn', 'Mill Basin': 'Brooklyn', 'Chinatown': 'Manhattan', 'New Lots': 'Brooklyn', 'Lenox Hill': 'Manhattan', 'Flushing South': 'Queens', 'Bay Ridge': 'Brooklyn', 'Ridgewood': 'Queens', 'Silver Beach': 'Bronx', 'Rugby': 'Brooklyn', 'Hollis Hills': 'Queens', 'University Heights': 'Bronx', 'East Flushing': 'Queens', 'Georgetown': 'Brooklyn', 'Garden Bay': 'Queens', 'Waterside Plaza': 'Manhattan', 'Fieldston': 'Bronx', 'Fish Bay': 'Bronx', 'Cypress Hills': 'Brooklyn', 'Floral Park': 'Queens', 'Parkchester': 'Bronx', 'East Harlem': 'Manhattan', 'Peter Cooper Village': 'Manhattan', 'Utopia': 'Queens', 'Harding Park': 'Bronx', 'Cambria Heights': 'Queens', 'Highland Park': 'Brooklyn', 'Laconia': 'Bronx', 'Little Italy': 'Manhattan', 'East Elmhurst': 'Queens', 'West Farms': 'Bronx', 'Farragut': 'Brooklyn', 'Homecrest': 'Brooklyn', 'Jackson Heights': 'Queens', 'Sea Gate': 'Brooklyn', 'Bronxdale': 'Bronx', 'Hamilton Heights': 'Manhattan', 'Bayside': 'Queens', 'Fresh Meadows': 'Queens', 'Prospect Lefferts Gardens': 'Brooklyn', 'Pelham Gardens': 'Bronx', 'Clinton Hill': 'Brooklyn', 'Pelham Parkway': 'Bronx', 'Midtown': 'Manhattan', 'Borough Park': 'Brooklyn', 'Erasmus': 'Brooklyn', 'Wakefield': 'Bronx', 'Indian Village': 'Bronx', 'Red Hook': 'Brooklyn', 'Concourse': 'Bronx', 'Morrisania': 'Bronx', 'Tudor Village': 'Queens', 'Gerritsen Beach': 'Brooklyn', 'Chelsea': 'Manhattan', 'Park Slope': 'Brooklyn', 'Crown Heights': 'Brooklyn', 'Stuyvesant Heights': 'Brooklyn', 'Kensington': 'Brooklyn', 'Locust Point': 'Bronx', 'Belle Harbor': 'Queens', 'Bushwick': 'Brooklyn', 'Fulton Mall': 'Brooklyn', 'Carroll Gardens': 'Brooklyn', 'Prospect Heights': 'Brooklyn', 'Norwood': 'Bronx', 'Sunset Park': 'Brooklyn', 'Laurelton': 'Queens', 'Tudor City': 'Manhattan', 'Claremont': 'Bronx', 'Jamaica Estates': 'Queens', 'Forest Hills': 'Queens', 'Soundview': 'Bronx', 'Elmhurst': 'Queens', 'Hollis': 'Queens', 'Throgs Neck': 'Bronx', 'Kips Bay': 'Manhattan', 'South Jamaica': 'Queens', 'Hilltop Village': 'Queens', 'TriBeCa': 'Manhattan', 'Whitestone': 'Queens', 'Steinway': 'Queens', 'Kingsbridge': 'Bronx', 'East New York': 'Brooklyn', 'Roosevelt Island': 'Manhattan', 'Williamsburg': 'Brooklyn', 'Randall’s Island': 'Manhattan', 'Rockaway Park': 'Queens', 'Little Neck': 'Queens', 'Van Nest': 'Bronx', 'Glendale': 'Queens', 'Stuyvesant Town': 'Manhattan', 'Olinville': 'Bronx', 'Williamsbridge': 'Bronx', 'Bath Beach': 'Brooklyn', 'Manhattan Beach': 'Brooklyn', 'Lincoln Square': 'Manhattan', 'Springfield Gardens': 'Queens', 'Greenwich Village': 'Manhattan', 'Upper East Side': 'Manhattan', 'Westchester Square': 'Bronx', 'Manhattan Valley': 'Manhattan', 'Bensonhurst': 'Brooklyn', 'Woodside': 'Queens', 'Van Cortlandt Village': 'Bronx', 'St. Albans': 'Queens', 'East Gravesend': 'Brooklyn', 'City Line': 'Brooklyn', 'Brownsville': 'Brooklyn', 'Brooklyn Heights': 'Brooklyn', 'Riverdale': 'Bronx', 'South Ozone Park': 'Queens', 'Inwood': 'Manhattan', 'Boerum Hill': 'Brooklyn', 'Lindenwood': 'Queens', 'Edgemere': 'Queens', 'Flatlands': 'Brooklyn', 'Bedford-Stuyvesant': 'Brooklyn', 'Battery Park City': 'Manhattan', 'Long Island City': 'Queens', 'Yorkville': 'Manhattan', 'Bergen Beach': 'Brooklyn', 'Rego Park': 'Queens', 'New Hyde Park': 'Queens', 'Douglaston': 'Queens', 'Meadowmere': 'Queens', 'Washington Heights': 'Manhattan', 'Kingsbridge Heights': 'Bronx', 'Maspeth': 'Queens', 'Holliswood': 'Queens', 'Spanish Harlem': 'Manhattan', 'Financial District': 'Manhattan', 'Beechhurst': 'Queens', 'East Village': 'Manhattan', 'Weeksville': 'Brooklyn', 'Clason Point': 'Bronx', 'Greenpoint': 'Brooklyn', 'Polo Grounds': 'Manhattan', 'Linden Hill': 'Queens', 'Morris Park': 'Bronx', 'Ocean Parkway': 'Brooklyn', 'Longwood': 'Bronx', 'Crotona Park': 'Bronx', 'Woodhaven': 'Queens', 'Mapleton': 'Brooklyn', 'Brookville': 'Queens', 'East Flatbush': 'Brooklyn', 'Willets Point': 'Queens', 'Breezy Point': 'Queens', 'Murray Hill': 'Manhattan', 'Remsen Village': 'Brooklyn', 'Ditmars': 'Queens', 'Middle Village': 'Queens', 'Coney Island': 'Brooklyn', 'Pelham Bay': 'Bronx', 'Arverne': 'Queens', 'Kew Gardens Hills': 'Queens', 'Queensbridge': 'Queens', 'Bathgate': 'Bronx', 'Midwood': 'Brooklyn', 'Starrett City': 'Brooklyn', 'Turtle Bay': 'Manhattan', 'Morningside Heights': 'Manhattan', 'Bruckner': 'Bronx', 'Marble Hill': 'Bronx', 'Kings Highway': 'Brooklyn', 'Sheepshead Bay': 'Brooklyn', 'Greenwood Heights': 'Brooklyn', 'Brighton Beach': 'Brooklyn', 'Fort Greene': 'Brooklyn', 'North Corona': 'Queens', 'College Point': 'Queens', 'Castle Hill': 'Bronx', 'Two Bridges': 'Manhattan', 'Sunnyside': 'Queens', 'Ravenswood': 'Queens', 'Fort Hamilton': 'Brooklyn', 'Vinegar Hill': 'Brooklyn', 'Wingate': 'Brooklyn', 'East Tremont': 'Bronx', 'Concourse Village': 'Bronx', 'Richmond Hill': 'Queens', 'Queens Village': 'Queens', 'Neponsit': 'Queens', 'Fordham': 'Bronx', 'Glen Oaks': 'Queens', 'Unionport': 'Bronx', 'Lower East Side': 'Manhattan', 'Plum Beach': 'Brooklyn', 'Bay Terrace': 'Queens', 'Rosedale': 'Queens', 'Bedford Park': 'Bronx', 'Woodlawn': 'Bronx', 'Fulton Ferry': 'Brooklyn', 'Gravesend': 'Brooklyn', 'Manhattanville': 'Manhattan', 'NoHo': 'Manhattan', 'Dyker Heights': 'Brooklyn', 'Kings Bay': 'Brooklyn', 'Marine Park': 'Brooklyn', 'Ocean Hill': 'Brooklyn', 'West Village': 'Manhattan', 'Bayswater': 'Queens', 'Flatbush': 'Brooklyn'}\n"
     ]
    }
   ],
   "source": [
    "for line in brooklyn_file:\n",
    "    neighborhoods = line.split(',')\n",
    "    for e in neighborhoods:\n",
    "        e = e.strip(\" \").strip(\"\\n\")\n",
    "        boroughs[e] = 'Brooklyn'\n",
    "print(boroughs)"
   ]
  },
  {
   "cell_type": "code",
   "execution_count": 33,
   "metadata": {
    "collapsed": true
   },
   "outputs": [],
   "source": [
    "statenIsland_file = open('Boroughs/staten_island','r')"
   ]
  },
  {
   "cell_type": "code",
   "execution_count": 34,
   "metadata": {
    "scrolled": true
   },
   "outputs": [
    {
     "name": "stdout",
     "output_type": "stream",
     "text": [
      "{'Rochdale Village': 'Queens', 'Oakland Gardens': 'Queens', 'Cunningham Heights': 'Queens', 'Old Astoria': 'Queens', 'Port Morris': 'Bronx', 'SoHo': 'Manhattan', 'Co-op City': 'Bronx', 'Ozone Park': 'Queens', 'Livingston': 'Staten Island', 'Morris Heights': 'Bronx', 'Malba': 'Queens', 'Corona': 'Queens', 'Sutton Place': 'Manhattan', 'Upper West Side': 'Manhattan', 'Hunts Point': 'Bronx', 'Mott Haven': 'Bronx', 'Silver Lake': 'Staten Island', 'Windsor Terrace': 'Brooklyn', 'Harlem': 'Manhattan', 'Kew Gardens': 'Queens', 'Baychester': 'Bronx', 'Flushing': 'Queens', 'Jamaica': 'Queens', 'Baisley Park': 'Queens', 'Edenwald': 'Bronx', 'Spuyten Duyvil': 'Bronx', 'Astoria': 'Queens', 'Allerton': 'Bronx', 'Bellerose': 'Queens', 'Wards Island': 'Manhattan', 'Madison': 'Brooklyn', 'Port Richmond': 'Staten Island', 'Hunters Point': 'Queens', 'City Island': 'Bronx', 'Eastchester': 'Bronx', 'Liberty Park': 'Queens', 'Ditmas Village': 'Brooklyn', 'Grymes Hill': 'Staten Island', 'Belmont': 'Bronx', 'New Springville': 'Staten Island', 'Melrose': 'Bronx', 'Bulls Head': 'Staten Island', 'Clinton': 'Manhattan', 'Alphabet City': 'Manhattan', 'Canarsie': 'Brooklyn', 'Briarwood': 'Queens', 'DUMBO': 'Brooklyn', 'Mount Hope': 'Bronx', 'Brooklyn Navy Yard': 'Brooklyn', 'Queensboro Hill': 'Queens', 'Concord': 'Staten Island', 'South Beach': 'Staten Island', 'Cobble Hill': 'Brooklyn', 'Howard Beach': 'Queens', 'Far Rockaway': 'Queens', 'Fresh Pond': 'Queens', 'Auburndale': 'Queens', 'High Bridge': 'Bronx', 'Gowanus': 'Brooklyn', 'Gramercy Park': 'Manhattan', 'Pomonok Houses': 'Queens', 'Bronx River': 'Bronx', 'Mill Island': 'Brooklyn', 'Mill Basin': 'Brooklyn', 'Chinatown': 'Manhattan', 'New Lots': 'Brooklyn', 'Lenox Hill': 'Manhattan', 'Flushing South': 'Queens', 'Bay Ridge': 'Brooklyn', 'Clifton': 'Staten Island', 'New Brighton': 'Staten Island', 'Ridgewood': 'Queens', 'Stapleton': 'Staten Island', 'Silver Beach': 'Bronx', 'Rugby': 'Brooklyn', 'Hollis Hills': 'Queens', 'University Heights': 'Bronx', 'East Flushing': 'Queens', 'Georgetown': 'Brooklyn', 'Old Town': 'Staten Island', 'Garden Bay': 'Queens', 'Waterside Plaza': 'Manhattan', 'Emerson Hill': 'Staten Island', 'Fieldston': 'Bronx', 'Fish Bay': 'Bronx', 'Cypress Hills': 'Brooklyn', 'Floral Park': 'Queens', 'Parkchester': 'Bronx', 'East Harlem': 'Manhattan', 'Peter Cooper Village': 'Manhattan', 'Utopia': 'Queens', 'Travis': 'Staten Island', 'Harding Park': 'Bronx', 'Cambria Heights': 'Queens', 'Highland Park': 'Brooklyn', 'Laconia': 'Bronx', 'Little Italy': 'Manhattan', 'East Elmhurst': 'Queens', 'West Farms': 'Bronx', 'Farragut': 'Brooklyn', 'Homecrest': 'Brooklyn', 'Jackson Heights': 'Queens', 'Sea Gate': 'Brooklyn', 'Bronxdale': 'Bronx', 'Hamilton Heights': 'Manhattan', 'Bayside': 'Queens', 'Ocean Breeze': 'Staten Island', 'Fresh Meadows': 'Queens', 'Prospect Lefferts Gardens': 'Brooklyn', 'Pelham Gardens': 'Bronx', 'Clinton Hill': 'Brooklyn', 'Pelham Parkway': 'Bronx', 'Midtown': 'Manhattan', 'Borough Park': 'Brooklyn', 'Meiers Corners': 'Staten Island', 'Erasmus': 'Brooklyn', 'Wakefield': 'Bronx', 'Indian Village': 'Bronx', 'Red Hook': 'Brooklyn', 'Concourse': 'Bronx', 'Morrisania': 'Bronx', 'Tudor Village': 'Queens', 'Gerritsen Beach': 'Brooklyn', 'Chelsea': 'Staten Island', 'Park Slope': 'Brooklyn', 'Crown Heights': 'Brooklyn', 'Stuyvesant Heights': 'Brooklyn', 'Kensington': 'Brooklyn', 'Locust Point': 'Bronx', 'Belle Harbor': 'Queens', 'Bushwick': 'Brooklyn', 'Fulton Mall': 'Brooklyn', 'Carroll Gardens': 'Brooklyn', 'Prospect Heights': 'Brooklyn', 'West Brighton': 'Staten Island', 'Norwood': 'Bronx', 'Sunset Park': 'Brooklyn', 'Laurelton': 'Queens', 'Tudor City': 'Manhattan', 'Claremont': 'Bronx', 'Jamaica Estates': 'Queens', 'Arrochar': 'Staten Island', 'Forest Hills': 'Queens', 'Soundview': 'Bronx', 'Elmhurst': 'Queens', 'Hollis': 'Queens', 'Throgs Neck': 'Bronx', 'Kips Bay': 'Manhattan', 'South Jamaica': 'Queens', 'Hilltop Village': 'Queens', 'TriBeCa': 'Manhattan', 'Whitestone': 'Queens', 'Steinway': 'Queens', 'Todt Hill': 'Staten Island', 'Grasmere': 'Staten Island', 'Kingsbridge': 'Bronx', 'East New York': 'Brooklyn', 'Roosevelt Island': 'Manhattan', 'Williamsburg': 'Brooklyn', 'Randall’s Island': 'Manhattan', 'Port Ivory': 'Staten Island', 'Rockaway Park': 'Queens', 'Little Neck': 'Queens', 'Van Nest': 'Bronx', 'Castleton Corners': 'Staten Island', 'Glendale': 'Queens', 'Mariners Harbor': 'Staten Island', 'Stuyvesant Town': 'Manhattan', 'Olinville': 'Bronx', 'Williamsbridge': 'Bronx', 'Bath Beach': 'Brooklyn', 'Manhattan Beach': 'Brooklyn', 'Lincoln Square': 'Manhattan', 'Springfield Gardens': 'Queens', 'Greenwich Village': 'Manhattan', 'Upper East Side': 'Manhattan', 'Westchester Square': 'Bronx', 'Manhattan Valley': 'Manhattan', 'Bensonhurst': 'Brooklyn', 'Woodside': 'Queens', 'Van Cortlandt Village': 'Bronx', 'St. Albans': 'Queens', 'New Dorp': 'Staten Island', 'East Gravesend': 'Brooklyn', 'City Line': 'Brooklyn', 'Brownsville': 'Brooklyn', 'Brooklyn Heights': 'Brooklyn', 'Egbertville': 'Staten Island', 'Riverdale': 'Bronx', 'South Ozone Park': 'Queens', 'Inwood': 'Manhattan', 'Dongan Hills': 'Staten Island', 'Boerum Hill': 'Brooklyn', 'Lindenwood': 'Queens', 'Edgemere': 'Queens', 'Flatlands': 'Brooklyn', 'Bedford-Stuyvesant': 'Brooklyn', 'Battery Park City': 'Manhattan', 'Long Island City': 'Queens', 'Westerleigh': 'Staten Island', 'Yorkville': 'Manhattan', 'Bergen Beach': 'Brooklyn', 'Rego Park': 'Queens', 'New Hyde Park': 'Queens', 'Bloomfield': 'Staten Island', 'Douglaston': 'Queens', 'Meadowmere': 'Queens', 'Washington Heights': 'Manhattan', 'Kingsbridge Heights': 'Bronx', 'Maspeth': 'Queens', 'Holliswood': 'Queens', 'Spanish Harlem': 'Manhattan', 'Financial District': 'Manhattan', 'Beechhurst': 'Queens', 'East Village': 'Manhattan', 'Weeksville': 'Brooklyn', 'Clason Point': 'Bronx', 'Greenpoint': 'Brooklyn', 'Polo Grounds': 'Manhattan', 'Linden Hill': 'Queens', 'Morris Park': 'Bronx', 'Ocean Parkway': 'Brooklyn', 'St. George': 'Staten Island', 'Longwood': 'Bronx', 'Crotona Park': 'Bronx', 'Woodhaven': 'Queens', 'Mapleton': 'Brooklyn', 'Brookville': 'Queens', 'East Flatbush': 'Brooklyn', 'Willets Point': 'Queens', 'Breezy Point': 'Queens', 'Murray Hill': 'Manhattan', 'Remsen Village': 'Brooklyn', 'Ditmars': 'Queens', 'Middle Village': 'Queens', 'Oakwood': 'Staten Island', 'Coney Island': 'Brooklyn', 'Pelham Bay': 'Bronx', 'Arverne': 'Queens', 'Kew Gardens Hills': 'Queens', 'Queensbridge': 'Queens', 'Arlington': 'Staten Island', 'Bathgate': 'Bronx', 'Midwood': 'Brooklyn', 'Tompkinsville': 'Staten Island', 'Starrett City': 'Brooklyn', 'Turtle Bay': 'Manhattan', 'Morningside Heights': 'Manhattan', 'Bruckner': 'Bronx', 'Marble Hill': 'Bronx', 'Grant City': 'Staten Island', 'Graniteville': 'Staten Island', 'Kings Highway': 'Brooklyn', 'Sheepshead Bay': 'Brooklyn', 'Rosebank': 'Staten Island', 'Greenwood Heights': 'Brooklyn', 'Brighton Beach': 'Brooklyn', 'Fort Greene': 'Brooklyn', 'North Corona': 'Queens', 'College Point': 'Queens', 'Castle Hill': 'Bronx', 'Two Bridges': 'Manhattan', 'Sunnyside': 'Staten Island', 'Ravenswood': 'Queens', 'Fort Hamilton': 'Brooklyn', 'Vinegar Hill': 'Brooklyn', 'Wingate': 'Brooklyn', 'East Tremont': 'Bronx', 'Concourse Village': 'Bronx', 'Richmond Hill': 'Queens', 'Shore Acres': 'Staten Island', 'Randall Manor': 'Staten Island', 'Queens Village': 'Queens', 'Neponsit': 'Queens', 'Fordham': 'Bronx', 'Elm Park': 'Staten Island', 'Glen Oaks': 'Queens', 'Unionport': 'Bronx', 'Lower East Side': 'Manhattan', 'Plum Beach': 'Brooklyn', 'Bay Terrace': 'Queens', 'Fort Wadsworth': 'Staten Island', 'Rosedale': 'Queens', 'Bedford Park': 'Bronx', 'Woodlawn': 'Bronx', 'Fulton Ferry': 'Brooklyn', 'Gravesend': 'Brooklyn', 'Manhattanville': 'Manhattan', 'NoHo': 'Manhattan', 'Dyker Heights': 'Brooklyn', 'Kings Bay': 'Brooklyn', 'Marine Park': 'Brooklyn', 'Midland Beach': 'Staten Island', 'Ocean Hill': 'Brooklyn', 'West Village': 'Manhattan', 'Bayswater': 'Queens', 'Flatbush': 'Brooklyn'}\n"
     ]
    }
   ],
   "source": [
    "for line in statenIsland_file:\n",
    "    neighborhoods = line.split(',')\n",
    "    for e in neighborhoods:\n",
    "        e = e.strip(\" \").strip(\"\\n\")\n",
    "        boroughs[e] = 'Staten Island'\n",
    "print(boroughs)"
   ]
  },
  {
   "cell_type": "code",
   "execution_count": 46,
   "metadata": {},
   "outputs": [],
   "source": [
    "\n",
    "boroughPD = df.dropna()"
   ]
  },
  {
   "cell_type": "code",
   "execution_count": 48,
   "metadata": {},
   "outputs": [
    {
     "data": {
      "text/plain": [
       "(9755590, 16)"
      ]
     },
     "execution_count": 48,
     "metadata": {},
     "output_type": "execute_result"
    }
   ],
   "source": [
    "boroughPD.shape"
   ]
  },
  {
   "cell_type": "code",
   "execution_count": 49,
   "metadata": {},
   "outputs": [
    {
     "data": {
      "text/plain": [
       "(10906858, 16)"
      ]
     },
     "execution_count": 49,
     "metadata": {},
     "output_type": "execute_result"
    }
   ],
   "source": [
    "df.shape"
   ]
  },
  {
   "cell_type": "code",
   "execution_count": null,
   "metadata": {
    "collapsed": true
   },
   "outputs": [],
   "source": []
  }
 ],
 "metadata": {
  "kernelspec": {
   "display_name": "Python 3",
   "language": "python",
   "name": "python3"
  },
  "language_info": {
   "codemirror_mode": {
    "name": "ipython",
    "version": 3
   },
   "file_extension": ".py",
   "mimetype": "text/x-python",
   "name": "python",
   "nbconvert_exporter": "python",
   "pygments_lexer": "ipython3",
   "version": "3.5.3"
  }
 },
 "nbformat": 4,
 "nbformat_minor": 2
}
